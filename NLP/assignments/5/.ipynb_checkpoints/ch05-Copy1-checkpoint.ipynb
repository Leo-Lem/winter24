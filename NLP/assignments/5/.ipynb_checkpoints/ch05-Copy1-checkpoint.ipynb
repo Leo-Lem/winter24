{
 "cells": [
  {
   "cell_type": "code",
   "execution_count": 1,
   "metadata": {},
   "outputs": [
    {
     "data": {
      "text/html": [
       "<style> \n",
       "table {display: block;} \n",
       "td {\n",
       "  font-size: 18px\n",
       "}\n",
       ".rendered_html { font-size: 28px; }\n",
       "*{ line-height: 200%; }\n",
       "</style>\n"
      ],
      "text/plain": [
       "<IPython.core.display.HTML object>"
      ]
     },
     "metadata": {},
     "output_type": "display_data"
    }
   ],
   "source": [
    "%%html\n",
    "<style> \n",
    "table {display: block;} \n",
    "td {\n",
    "  font-size: 18px\n",
    "}\n",
    ".rendered_html { font-size: 28px; }\n",
    "*{ line-height: 200%; }\n",
    "</style>\n"
   ]
  },
  {
   "cell_type": "markdown",
   "metadata": {},
   "source": [
    "# Natural Language Processing and the Web WS 2024/25- Practice Class - <span style=\"color:blue\">Week 05</span>"
   ]
  },
  {
   "cell_type": "markdown",
   "metadata": {},
   "source": [
    "In this practice class, we will further discuss the supervised machine learning approach and <span style=\"color:blue\">feature generation/selection</span> strategies. We will also discuss basics of <span style=\"color:blue\">PyTorch</span>, a deep learning framework in Python and how to build NLP applications using such models. We will also briefly discuss on how to serve ML models in web application using the <span style=\"color:blue\">Flask</span> framewrok.\n",
    "\n",
    "At the end of this notebook, there are <span style=\"color:blue\">4 machine learning assignment descriptions.</span> Please form a group (2 - 4 students) and choose one of the assignments. The assignment is due in two weeks.  \n",
    "## Contents\n",
    "* Machine learning in <span style=\"color:blue\">spaCy</span> \n",
    "    * Spacy Pipeline\n",
    "    * Building new NER model\n",
    "* Introduction to <span style=\"color:blue\">PyTorch</span>"
   ]
  },
  {
   "cell_type": "markdown",
   "metadata": {},
   "source": [
    "# [How spaCy pipelines work](https://spacy.io/usage/processing-pipelines#pipelines)\n",
    "* Re-use existing libraries\n",
    "* Custom component can be added when initializing a `Language` class\n",
    "\n",
    "When you load a model, spaCy first consults the model’s meta.json. The meta typically includes the model details, the ID of a language class, and an optional list of pipeline components.\n",
    "![modle.png](https://d33wubrfki0l68.cloudfront.net/16b2ccafeefd6d547171afa23f9ac62f159e353d/48b91/pipeline-7a14d4edd18f3edfee8f34393bff2992.svg)"
   ]
  },
  {
   "cell_type": "markdown",
   "metadata": {},
   "source": [
    "## Modifying spaCy Pipeline\n",
    "You can either define your own custom components, or use the ones provided by spaCy and add or modify them for your specific needs. e.g. for rule based matching, one can use PhraseMatcher, or EntityRuler among many other options.\n",
    "https://spacy.io/usage/rule-based-matching"
   ]
  },
  {
   "cell_type": "code",
   "execution_count": 2,
   "metadata": {},
   "outputs": [
    {
     "name": "stdout",
     "output_type": "stream",
     "text": [
      "Pipe names: ['tok2vec', 'tagger', 'parser', 'attribute_ruler', 'lemmatizer', 'ner']\n",
      "\n",
      "Pipline with respective classes of pipes:\n",
      "\n",
      "('tok2vec', <spacy.pipeline.tok2vec.Tok2Vec object at 0x307dad9a0>)\n",
      "('tagger', <spacy.pipeline.tagger.Tagger object at 0x307f8c220>)\n",
      "('parser', <spacy.pipeline.dep_parser.DependencyParser object at 0x307ca9eb0>)\n",
      "('attribute_ruler', <spacy.pipeline.attributeruler.AttributeRuler object at 0x307f2c140>)\n",
      "('lemmatizer', <spacy.lang.en.lemmatizer.EnglishLemmatizer object at 0x10fdaa9c0>)\n",
      "('ner', <spacy.pipeline.ner.EntityRecognizer object at 0x307ca9cf0>)\n"
     ]
    }
   ],
   "source": [
    "# print existing pipelines info\n",
    "import spacy\n",
    "nlp = spacy.load('en_core_web_sm')\n",
    "\n",
    "print(f\"Pipe names: {nlp.pipe_names}\")\n",
    "print(f\"\\nPipline with respective classes of pipes:\\n\")\n",
    "for p in nlp.pipeline:\n",
    "    print(p)"
   ]
  },
  {
   "cell_type": "markdown",
   "metadata": {},
   "source": [
    "### Example: EntityRuler \n",
    "The <span style=\"color:blue\">EntityRuler</span>   is a pipeline component that lets you add named entities based on pattern dictionaries. \n",
    "\n",
    "It requires <span style=\"color:blue\">Entity patterns</span> for string matching.\n",
    "The entity ruler accepts two types of patterns:\n",
    "> #### Phrase patterns: for exact string matches (string).\n",
    "\n",
    "> {\"label\": \"ORG\", \"pattern\": \"Apple\"}\n",
    "\n",
    "> #### Token patterns: with one dictionary describing one token (list).\n",
    "\n",
    "> {\"label\": \"GPE\", \"pattern\": [{\"LOWER\": \"san\"}, {\"LOWER\": \"francisco\"}]}\n",
    "\n",
    "The entity ruler is designed to integrate with spaCy’s existing pipeline components via <span style=\"color:blue\">nlp.add_pipe</span> method.\n",
    "When the nlp object is called on a text, it will find matches in the doc and add them as entities to the **doc.ents**, using the specified pattern label as the entity label.\n",
    "For more details see https://spacy.io/usage/rule-based-matching#entityruler"
   ]
  },
  {
   "cell_type": "code",
   "execution_count": 3,
   "metadata": {},
   "outputs": [
    {
     "name": "stdout",
     "output_type": "stream",
     "text": [
      "[(3, 4, 'cat', 'cat', 'Animal'), (5, 6, 'dog', 'dog', 'Animal'), (11, 12, 'Arctic', 'Arctic', 'LOC'), (17, 19, 'Fox News', 'Fox News', 'ORG')]\n"
     ]
    }
   ],
   "source": [
    "import spacy\n",
    "nlp = spacy.load('en_core_web_sm')\n",
    "ruler = nlp.add_pipe(\"entity_ruler\")\n",
    "\n",
    "# exact phrase match\n",
    "patterns = [{\"label\": \"Animal\", \"pattern\": \"cat\"},\n",
    "            {\"label\": \"Animal\", \"pattern\": \"dog\"},\n",
    "            {\"label\": \"Animal\", \"pattern\": \"arctic foxes\"}\n",
    "           ]\n",
    "\n",
    "ruler.add_patterns(patterns)\n",
    "\n",
    "doc = nlp(\"There is no cat or dog in the house and no Arctic foxes in the basement: Fox News\")\n",
    "print([(ent.start, ent.end, ent.text, ent.lemma_, ent.label_) for ent in doc.ents])"
   ]
  },
  {
   "cell_type": "markdown",
   "metadata": {},
   "source": [
    "#### Verify that your added pipe is there, by default it is added toward the end of existing pipleline at the end \n"
   ]
  },
  {
   "cell_type": "code",
   "execution_count": 4,
   "metadata": {},
   "outputs": [
    {
     "data": {
      "text/plain": [
       "[('tok2vec', <spacy.pipeline.tok2vec.Tok2Vec at 0x31c3178e0>),\n",
       " ('tagger', <spacy.pipeline.tagger.Tagger at 0x307c55a00>),\n",
       " ('parser', <spacy.pipeline.dep_parser.DependencyParser at 0x31b664890>),\n",
       " ('attribute_ruler',\n",
       "  <spacy.pipeline.attributeruler.AttributeRuler at 0x31c470500>),\n",
       " ('lemmatizer', <spacy.lang.en.lemmatizer.EnglishLemmatizer at 0x1098f4680>),\n",
       " ('ner', <spacy.pipeline.ner.EntityRecognizer at 0x31b664820>),\n",
       " ('entity_ruler', <spacy.pipeline.entityruler.EntityRuler at 0x307ec9a80>)]"
      ]
     },
     "execution_count": 4,
     "metadata": {},
     "output_type": "execute_result"
    }
   ],
   "source": [
    "nlp.pipeline"
   ]
  },
  {
   "cell_type": "code",
   "execution_count": 5,
   "metadata": {},
   "outputs": [
    {
     "name": "stdout",
     "output_type": "stream",
     "text": [
      "[(11, 13, 'arctic foxes', 'arctic fox', 'Animal'), (17, 19, 'Fox News', 'Fox News', 'ORG')]\n"
     ]
    }
   ],
   "source": [
    "# Exact phrase match won't work with following text (see the capitalization)\n",
    "doc = nlp(\"There is no Cat or Dog in the house and no arctic foxes in the basement: Fox News\")\n",
    "print([(ent.start, ent.end, ent.text, ent.lemma_, ent.label_) for ent in doc.ents])"
   ]
  },
  {
   "cell_type": "code",
   "execution_count": 6,
   "metadata": {},
   "outputs": [
    {
     "name": "stdout",
     "output_type": "stream",
     "text": [
      "[(3, 4, 'Cat', 'Cat', 'Animal'), (5, 6, 'Dog', 'Dog', 'Animal'), (11, 13, 'arctic foxes', 'arctic fox', 'Animal'), (17, 19, 'Fox News', 'Fox News', 'ORG')]\n"
     ]
    }
   ],
   "source": [
    "# Use LOWER to apply lower case before matching (case-insensitive)\n",
    "import spacy\n",
    "nlp = spacy.load('en_core_web_sm')\n",
    "ruler = nlp.add_pipe(\"entity_ruler\")\n",
    "\n",
    "# token patterns\n",
    "patterns = [{\"label\": \"Animal\", \"pattern\": [{\"LOWER\": \"cat\"}]},\n",
    "            {\"label\": \"Animal\", \"pattern\": [{\"LOWER\": \"dog\"}]},\n",
    "            {\"label\": \"Animal\", \"pattern\": [{\"LOWER\": \"arctic\"}, {\"LOWER\": \"foxes\"}]}\n",
    "           ]\n",
    "\n",
    "ruler.add_patterns(patterns)\n",
    "\n",
    "doc = nlp(\"There is no Cat or Dog in the house and no arctic foxes in the basement: Fox News\")\n",
    "print([(ent.start, ent.end, ent.text, ent.lemma_, ent.label_) for ent in doc.ents])"
   ]
  },
  {
   "cell_type": "markdown",
   "metadata": {},
   "source": [
    "#### You can also use them as standalone option if other pipes are not required"
   ]
  },
  {
   "cell_type": "code",
   "execution_count": 7,
   "metadata": {},
   "outputs": [
    {
     "name": "stdout",
     "output_type": "stream",
     "text": [
      "[(3, 4, 'cat', '', 'Animal'), (5, 6, 'dog', '', 'Animal')]\n"
     ]
    }
   ],
   "source": [
    "from spacy.lang.en import English\n",
    "nlp = English()\n",
    "\n",
    "ruler = nlp.add_pipe(\"entity_ruler\")\n",
    "\n",
    "patterns = [{\"label\": \"Animal\", \"pattern\": \"cat\"},\n",
    "            {\"label\": \"Animal\", \"pattern\": \"dog\"},\n",
    "            {\"label\": \"Animal\", \"pattern\": \"arctic foxes\"}\n",
    "           ]\n",
    "\n",
    "ruler.add_patterns(patterns)\n",
    "\n",
    "doc = nlp(\"There is no cat or dog in the house and no Arctic foxes in the basement: Fox News\")\n",
    "print([(ent.start, ent.end, ent.text, ent.lemma_, ent.label_) for ent in doc.ents])"
   ]
  },
  {
   "cell_type": "markdown",
   "metadata": {},
   "source": [
    "## Define your own pipeline"
   ]
  },
  {
   "cell_type": "markdown",
   "metadata": {},
   "source": [
    "## Training Models and Pipelines\n",
    "\n",
    "### Train a blank model with NER pipeline model  for product name recognition"
   ]
  },
  {
   "cell_type": "code",
   "execution_count": 8,
   "metadata": {
    "scrolled": true
   },
   "outputs": [
    {
     "name": "stdout",
     "output_type": "stream",
     "text": [
      "Statring iteration 0\n"
     ]
    },
    {
     "name": "stderr",
     "output_type": "stream",
     "text": [
      "3it [00:00, 45.74it/s]\n"
     ]
    },
    {
     "name": "stdout",
     "output_type": "stream",
     "text": [
      "losses {'ner': 114.97103953361511}\n",
      "Statring iteration 1\n"
     ]
    },
    {
     "name": "stderr",
     "output_type": "stream",
     "text": [
      "3it [00:00, 50.99it/s]\n"
     ]
    },
    {
     "name": "stdout",
     "output_type": "stream",
     "text": [
      "losses {'ner': 92.3464166522026}\n",
      "Statring iteration 2\n"
     ]
    },
    {
     "name": "stderr",
     "output_type": "stream",
     "text": [
      "3it [00:00, 53.62it/s]\n"
     ]
    },
    {
     "name": "stdout",
     "output_type": "stream",
     "text": [
      "losses {'ner': 48.932152450084686}\n",
      "Statring iteration 3\n"
     ]
    },
    {
     "name": "stderr",
     "output_type": "stream",
     "text": [
      "3it [00:00, 52.99it/s]\n"
     ]
    },
    {
     "name": "stdout",
     "output_type": "stream",
     "text": [
      "losses {'ner': 20.803355984622613}\n",
      "Statring iteration 4\n"
     ]
    },
    {
     "name": "stderr",
     "output_type": "stream",
     "text": [
      "3it [00:00, 49.58it/s]\n"
     ]
    },
    {
     "name": "stdout",
     "output_type": "stream",
     "text": [
      "losses {'ner': 16.073960532904948}\n",
      "Statring iteration 5\n"
     ]
    },
    {
     "name": "stderr",
     "output_type": "stream",
     "text": [
      "3it [00:00, 51.47it/s]\n"
     ]
    },
    {
     "name": "stdout",
     "output_type": "stream",
     "text": [
      "losses {'ner': 10.803055814587537}\n",
      "Statring iteration 6\n"
     ]
    },
    {
     "name": "stderr",
     "output_type": "stream",
     "text": [
      "3it [00:00, 52.48it/s]\n"
     ]
    },
    {
     "name": "stdout",
     "output_type": "stream",
     "text": [
      "losses {'ner': 5.678896511761476}\n",
      "Statring iteration 7\n"
     ]
    },
    {
     "name": "stderr",
     "output_type": "stream",
     "text": [
      "3it [00:00, 51.34it/s]\n"
     ]
    },
    {
     "name": "stdout",
     "output_type": "stream",
     "text": [
      "losses {'ner': 1.317535099651246}\n",
      "Statring iteration 8\n"
     ]
    },
    {
     "name": "stderr",
     "output_type": "stream",
     "text": [
      "3it [00:00, 51.81it/s]\n"
     ]
    },
    {
     "name": "stdout",
     "output_type": "stream",
     "text": [
      "losses {'ner': 1.7950626447588995}\n",
      "Statring iteration 9\n"
     ]
    },
    {
     "name": "stderr",
     "output_type": "stream",
     "text": [
      "3it [00:00, 53.59it/s]\n"
     ]
    },
    {
     "name": "stdout",
     "output_type": "stream",
     "text": [
      "losses {'ner': 1.8919739784021241}\n",
      "Statring iteration 10\n"
     ]
    },
    {
     "name": "stderr",
     "output_type": "stream",
     "text": [
      "3it [00:00, 51.79it/s]\n"
     ]
    },
    {
     "name": "stdout",
     "output_type": "stream",
     "text": [
      "losses {'ner': 1.646679939012379}\n",
      "Statring iteration 11\n"
     ]
    },
    {
     "name": "stderr",
     "output_type": "stream",
     "text": [
      "3it [00:00, 50.08it/s]\n"
     ]
    },
    {
     "name": "stdout",
     "output_type": "stream",
     "text": [
      "losses {'ner': 1.0444672246064204}\n",
      "Statring iteration 12\n"
     ]
    },
    {
     "name": "stderr",
     "output_type": "stream",
     "text": [
      "3it [00:00, 52.93it/s]\n"
     ]
    },
    {
     "name": "stdout",
     "output_type": "stream",
     "text": [
      "losses {'ner': 6.109787532914067}\n",
      "Statring iteration 13\n"
     ]
    },
    {
     "name": "stderr",
     "output_type": "stream",
     "text": [
      "3it [00:00, 51.03it/s]\n"
     ]
    },
    {
     "name": "stdout",
     "output_type": "stream",
     "text": [
      "losses {'ner': 0.830777114467327}\n",
      "Statring iteration 14\n"
     ]
    },
    {
     "name": "stderr",
     "output_type": "stream",
     "text": [
      "3it [00:00, 53.31it/s]\n"
     ]
    },
    {
     "name": "stdout",
     "output_type": "stream",
     "text": [
      "losses {'ner': 5.657570953268983}\n",
      "Statring iteration 15\n"
     ]
    },
    {
     "name": "stderr",
     "output_type": "stream",
     "text": [
      "3it [00:00, 51.70it/s]\n"
     ]
    },
    {
     "name": "stdout",
     "output_type": "stream",
     "text": [
      "losses {'ner': 2.0184856470556327}\n",
      "Statring iteration 16\n"
     ]
    },
    {
     "name": "stderr",
     "output_type": "stream",
     "text": [
      "3it [00:00, 51.71it/s]\n"
     ]
    },
    {
     "name": "stdout",
     "output_type": "stream",
     "text": [
      "losses {'ner': 3.5867836236272166}\n",
      "Statring iteration 17\n"
     ]
    },
    {
     "name": "stderr",
     "output_type": "stream",
     "text": [
      "3it [00:00, 51.97it/s]\n"
     ]
    },
    {
     "name": "stdout",
     "output_type": "stream",
     "text": [
      "losses {'ner': 5.5457720171086295}\n",
      "Statring iteration 18\n"
     ]
    },
    {
     "name": "stderr",
     "output_type": "stream",
     "text": [
      "3it [00:00, 51.09it/s]\n"
     ]
    },
    {
     "name": "stdout",
     "output_type": "stream",
     "text": [
      "losses {'ner': 2.6118854070145847}\n",
      "Statring iteration 19\n"
     ]
    },
    {
     "name": "stderr",
     "output_type": "stream",
     "text": [
      "3it [00:00, 50.67it/s]"
     ]
    },
    {
     "name": "stdout",
     "output_type": "stream",
     "text": [
      "losses {'ner': 1.0490605440715246}\n"
     ]
    },
    {
     "name": "stderr",
     "output_type": "stream",
     "text": [
      "\n"
     ]
    }
   ],
   "source": [
    "import spacy\n",
    "from spacy.util import minibatch\n",
    "from tqdm import tqdm # loading bar\n",
    "from spacy.training.example import Example\n",
    "import random\n",
    "\n",
    "# data format for entity recognition: list of tuples \n",
    "# where each tuple is in format (text, {\"entities\":[(start, end, \"ENTITY LABEL\")]}) \n",
    "\n",
    "TRAIN_DATA = [('what is the price of polo?', {'entities': [(21, 25, 'PrdName')]}), \n",
    "              ('what is the price of ball?', {'entities': [(21, 25, 'PrdName')]}), \n",
    "              ('what is the price of jegging?', {'entities': [(21, 28, 'PrdName')]}), \n",
    "              ('what is the price of t-shirt?', {'entities': [(21, 28, 'PrdName')]}), \n",
    "              ('what is the price of jeans?', {'entities': [(21, 26, 'PrdName')]}), \n",
    "              ('what is the price of bat?', {'entities': [(21, 24, 'PrdName')]}), \n",
    "              ('what is the price of shirt?', {'entities': [(21, 26, 'PrdName')]}), \n",
    "              ('what is the price of bag?', {'entities': [(21, 24, 'PrdName')]}), \n",
    "              ('what is the price of cup?', {'entities': [(21, 24, 'PrdName')]}), \n",
    "              ('what is the price of jug?', {'entities': [(21, 24, 'PrdName')]}), \n",
    "              ('what is the price of plate?', {'entities': [(21, 26, 'PrdName')]}), \n",
    "              ('what is the price of glass?', {'entities': [(21, 26, 'PrdName')]}), \n",
    "              ('what is the price of moniter?', {'entities': [(21, 28, 'PrdName')]}), \n",
    "              ('what is the price of desktop?', {'entities': [(21, 28, 'PrdName')]}), \n",
    "              ('what is the price of bottle?', {'entities': [(21, 27, 'PrdName')]}), \n",
    "              ('what is the price of mouse?', {'entities': [(21, 26, 'PrdName')]}), \n",
    "              ('what is the price of keyboad?', {'entities': [(21, 28, 'PrdName')]}), \n",
    "              ('what is the price of chair?', {'entities': [(21, 26, 'PrdName')]}), \n",
    "              ('what is the price of table?', {'entities': [(21, 26, 'PrdName')]}), \n",
    "              ('what is the price of watch?', {'entities': [(21, 26, 'PrdName')]})]\n",
    "\n",
    "def train_spacy(data,iterations):\n",
    "    TRAIN_DATA = data \n",
    "    nlp = spacy.blank('en')  # create blank Language class\n",
    "    \n",
    "    # create the built-in pipeline components and add them to the pipeline\n",
    "    # nlp.create_pipe works for built-ins that are registered with spaCy\n",
    "    if 'ner' not in nlp.pipe_names:\n",
    "        ner = nlp.create_pipe('ner')\n",
    "        nlp.add_pipe('ner', last=True)\n",
    "    \n",
    "    # add labels\n",
    "    for _, annotations in TRAIN_DATA:\n",
    "         for ent in annotations.get('entities'):\n",
    "            ner.add_label(ent[2])\n",
    "\n",
    "    TRAIN_Examples = [Example.from_dict(nlp.make_doc(ex[0]), ex[1]) for ex in data]\n",
    "    \n",
    "    # get names of other pipes to disable them during training\n",
    "    other_pipes = [pipe for pipe in nlp.pipe_names if pipe != 'ner']\n",
    "    with nlp.disable_pipes(*other_pipes):  # only train NER\n",
    "        \n",
    "        optimizer = nlp.begin_training() \n",
    "        \n",
    "        for itn in range(iterations):\n",
    "            print(\"Statring iteration \" + str(itn))\n",
    "            random.shuffle(TRAIN_DATA)\n",
    "            losses = {}\n",
    "            # create batches of examples using spaCy's minibatch\n",
    "            batches = minibatch(TRAIN_Examples, size=8)\n",
    "            for batch in tqdm(batches):\n",
    "    #             print(batch)\n",
    "                nlp.update(batch,\n",
    "                            drop=0.2,  # dropout - make it harder to memorise data\n",
    "                            sgd=optimizer, # callable to update weights\n",
    "                           losses=losses,\n",
    "                        )\n",
    "            print(\"losses\", losses)\n",
    "        \n",
    "                    \n",
    "    return nlp\n",
    "\n",
    "\n",
    "prdnlp = train_spacy(TRAIN_DATA, 20)\n",
    "\n",
    "# Save our trained Model\n",
    "modelfile = \"spacy_prdName\"\n",
    "prdnlp.to_disk(modelfile)"
   ]
  },
  {
   "cell_type": "code",
   "execution_count": 9,
   "metadata": {},
   "outputs": [
    {
     "data": {
      "text/plain": [
       "[('ner', <spacy.pipeline.ner.EntityRecognizer at 0x31fbfdd60>)]"
      ]
     },
     "execution_count": 9,
     "metadata": {},
     "output_type": "execute_result"
    }
   ],
   "source": [
    "prdnlp.pipeline"
   ]
  },
  {
   "cell_type": "code",
   "execution_count": 10,
   "metadata": {},
   "outputs": [
    {
     "name": "stdout",
     "output_type": "stream",
     "text": [
      "\n",
      "=========Test result======\n",
      "\n",
      "chair 21 26 PrdName\n"
     ]
    }
   ],
   "source": [
    "import spacy\n",
    "# load the trained model\n",
    "prdnlp = spacy.load(\"spacy_prdName\")\n",
    "\n",
    "#Test your text\n",
    "test_text = \"what is the price of chair??\"\n",
    "# test_text = \"what is the price of iphone you bought from Apple store?\"\n",
    "doc = prdnlp(test_text)\n",
    "print(\"\\n=========Test result======\\n\")\n",
    "for ent in doc.ents:\n",
    "    print(ent.text, ent.start_char, ent.end_char, ent.label_)"
   ]
  },
  {
   "cell_type": "code",
   "execution_count": 11,
   "metadata": {},
   "outputs": [
    {
     "name": "stdout",
     "output_type": "stream",
     "text": [
      "what  \n",
      "is  \n",
      "the  \n",
      "price  \n",
      "of  \n",
      "chair  \n",
      "?  \n",
      "?  \n"
     ]
    }
   ],
   "source": [
    "# print other token info\n",
    "for tok in doc:\n",
    "    print(tok.text, tok.lemma_, tok.pos_)"
   ]
  },
  {
   "cell_type": "markdown",
   "metadata": {},
   "source": [
    "## Re-train existing model with new data\n",
    "With few differences, rest of the process is same."
   ]
  },
  {
   "cell_type": "code",
   "execution_count": 12,
   "metadata": {
    "scrolled": true
   },
   "outputs": [
    {
     "name": "stdout",
     "output_type": "stream",
     "text": [
      "Statring iteration 0\n"
     ]
    },
    {
     "name": "stderr",
     "output_type": "stream",
     "text": [
      "3it [00:00, 43.87it/s]\n"
     ]
    },
    {
     "name": "stdout",
     "output_type": "stream",
     "text": [
      "losses {'ner': 37.51006421791034}\n",
      "Statring iteration 1\n"
     ]
    },
    {
     "name": "stderr",
     "output_type": "stream",
     "text": [
      "3it [00:00, 45.89it/s]\n"
     ]
    },
    {
     "name": "stdout",
     "output_type": "stream",
     "text": [
      "losses {'ner': 29.568801308886258}\n",
      "Statring iteration 2\n"
     ]
    },
    {
     "name": "stderr",
     "output_type": "stream",
     "text": [
      "3it [00:00, 45.47it/s]\n"
     ]
    },
    {
     "name": "stdout",
     "output_type": "stream",
     "text": [
      "losses {'ner': 26.161956797353042}\n",
      "Statring iteration 3\n"
     ]
    },
    {
     "name": "stderr",
     "output_type": "stream",
     "text": [
      "3it [00:00, 45.94it/s]\n"
     ]
    },
    {
     "name": "stdout",
     "output_type": "stream",
     "text": [
      "losses {'ner': 27.30941550358412}\n",
      "Statring iteration 4\n"
     ]
    },
    {
     "name": "stderr",
     "output_type": "stream",
     "text": [
      "3it [00:00, 46.31it/s]\n"
     ]
    },
    {
     "name": "stdout",
     "output_type": "stream",
     "text": [
      "losses {'ner': 26.20960248843346}\n",
      "Statring iteration 5\n"
     ]
    },
    {
     "name": "stderr",
     "output_type": "stream",
     "text": [
      "3it [00:00, 46.03it/s]\n"
     ]
    },
    {
     "name": "stdout",
     "output_type": "stream",
     "text": [
      "losses {'ner': 23.486875389849956}\n",
      "Statring iteration 6\n"
     ]
    },
    {
     "name": "stderr",
     "output_type": "stream",
     "text": [
      "3it [00:00, 45.58it/s]\n"
     ]
    },
    {
     "name": "stdout",
     "output_type": "stream",
     "text": [
      "losses {'ner': 20.302559571498932}\n",
      "Statring iteration 7\n"
     ]
    },
    {
     "name": "stderr",
     "output_type": "stream",
     "text": [
      "3it [00:00, 45.86it/s]\n"
     ]
    },
    {
     "name": "stdout",
     "output_type": "stream",
     "text": [
      "losses {'ner': 13.719250706140883}\n",
      "Statring iteration 8\n"
     ]
    },
    {
     "name": "stderr",
     "output_type": "stream",
     "text": [
      "3it [00:00, 44.68it/s]\n"
     ]
    },
    {
     "name": "stdout",
     "output_type": "stream",
     "text": [
      "losses {'ner': 6.4400905284019245}\n",
      "Statring iteration 9\n"
     ]
    },
    {
     "name": "stderr",
     "output_type": "stream",
     "text": [
      "3it [00:00, 46.19it/s]\n"
     ]
    },
    {
     "name": "stdout",
     "output_type": "stream",
     "text": [
      "losses {'ner': 2.9720729885739274}\n",
      "Statring iteration 10\n"
     ]
    },
    {
     "name": "stderr",
     "output_type": "stream",
     "text": [
      "3it [00:00, 47.54it/s]\n"
     ]
    },
    {
     "name": "stdout",
     "output_type": "stream",
     "text": [
      "losses {'ner': 1.4138883050909499}\n",
      "Statring iteration 11\n"
     ]
    },
    {
     "name": "stderr",
     "output_type": "stream",
     "text": [
      "3it [00:00, 47.12it/s]\n"
     ]
    },
    {
     "name": "stdout",
     "output_type": "stream",
     "text": [
      "losses {'ner': 1.2514872790529807}\n",
      "Statring iteration 12\n"
     ]
    },
    {
     "name": "stderr",
     "output_type": "stream",
     "text": [
      "3it [00:00, 45.64it/s]\n"
     ]
    },
    {
     "name": "stdout",
     "output_type": "stream",
     "text": [
      "losses {'ner': 1.3348111600155903}\n",
      "Statring iteration 13\n"
     ]
    },
    {
     "name": "stderr",
     "output_type": "stream",
     "text": [
      "3it [00:00, 46.59it/s]\n"
     ]
    },
    {
     "name": "stdout",
     "output_type": "stream",
     "text": [
      "losses {'ner': 1.0327240476231845}\n",
      "Statring iteration 14\n"
     ]
    },
    {
     "name": "stderr",
     "output_type": "stream",
     "text": [
      "3it [00:00, 46.29it/s]\n"
     ]
    },
    {
     "name": "stdout",
     "output_type": "stream",
     "text": [
      "losses {'ner': 1.097440985392442}\n",
      "Statring iteration 15\n"
     ]
    },
    {
     "name": "stderr",
     "output_type": "stream",
     "text": [
      "3it [00:00, 44.52it/s]\n"
     ]
    },
    {
     "name": "stdout",
     "output_type": "stream",
     "text": [
      "losses {'ner': 0.9604569704409138}\n",
      "Statring iteration 16\n"
     ]
    },
    {
     "name": "stderr",
     "output_type": "stream",
     "text": [
      "3it [00:00, 45.51it/s]\n"
     ]
    },
    {
     "name": "stdout",
     "output_type": "stream",
     "text": [
      "losses {'ner': 0.9434470843293232}\n",
      "Statring iteration 17\n"
     ]
    },
    {
     "name": "stderr",
     "output_type": "stream",
     "text": [
      "3it [00:00, 48.57it/s]\n"
     ]
    },
    {
     "name": "stdout",
     "output_type": "stream",
     "text": [
      "losses {'ner': 0.7430874856592715}\n",
      "Statring iteration 18\n"
     ]
    },
    {
     "name": "stderr",
     "output_type": "stream",
     "text": [
      "3it [00:00, 48.64it/s]\n"
     ]
    },
    {
     "name": "stdout",
     "output_type": "stream",
     "text": [
      "losses {'ner': 0.8593638949736084}\n",
      "Statring iteration 19\n"
     ]
    },
    {
     "name": "stderr",
     "output_type": "stream",
     "text": [
      "3it [00:00, 45.94it/s]\n"
     ]
    },
    {
     "name": "stdout",
     "output_type": "stream",
     "text": [
      "losses {'ner': 5.279378330581592}\n"
     ]
    }
   ],
   "source": [
    "import spacy\n",
    "from spacy.util import minibatch\n",
    "from tqdm import tqdm # loading bar\n",
    "from spacy.training.example import Example\n",
    "import random\n",
    "\n",
    "def train_spacy(data,iterations):\n",
    "    TRAIN_DATA = data \n",
    "    nlp = spacy.load('en_core_web_sm')  # create blank Language class\n",
    "    \n",
    "    # get existing pipe rather than creating it\n",
    "    ner = nlp.get_pipe('ner')\n",
    "\n",
    "    # add labels\n",
    "    for _, annotations in TRAIN_DATA:\n",
    "         for ent in annotations.get('entities'):\n",
    "            ner.add_label(ent[2])\n",
    "\n",
    "    TRAIN_Examples = [Example.from_dict(nlp.make_doc(ex[0]), ex[1]) for ex in data]\n",
    "    \n",
    "    # get names of other pipes to disable them during training\n",
    "    other_pipes = [pipe for pipe in nlp.pipe_names if pipe != 'ner']\n",
    "    with nlp.disable_pipes(*other_pipes):  # only train NER\n",
    "        \n",
    "        # resume training instead of begin training\n",
    "        optimizer = nlp.resume_training() \n",
    "        \n",
    "        for itn in range(iterations):\n",
    "            print(\"Statring iteration \" + str(itn))\n",
    "            random.shuffle(TRAIN_DATA)\n",
    "            losses = {}\n",
    "            # create batches of examples using spaCy's minibatch\n",
    "            batches = minibatch(TRAIN_Examples, size=8)\n",
    "            for batch in tqdm(batches):\n",
    "    #             print(batch)\n",
    "                nlp.update(batch,\n",
    "                            drop=0.2,  # dropout - make it harder to memorise data\n",
    "                            sgd=optimizer, # callable to update weights\n",
    "                           losses=losses,\n",
    "                        )\n",
    "            print(\"losses\", losses)\n",
    "        \n",
    "                    \n",
    "    return nlp\n",
    "\n",
    "\n",
    "prdnlp = train_spacy(TRAIN_DATA, 20)\n",
    "\n",
    "# Save our trained Model\n",
    "modelfile = \"spacy_prdName_sm\"\n",
    "prdnlp.to_disk(modelfile)"
   ]
  },
  {
   "cell_type": "code",
   "execution_count": 13,
   "metadata": {},
   "outputs": [
    {
     "name": "stdout",
     "output_type": "stream",
     "text": [
      "\n",
      "=========Test result======\n",
      "\n",
      "chair 21 26 PrdName\n"
     ]
    }
   ],
   "source": [
    "import spacy\n",
    "# load the trained model\n",
    "prdnlp = spacy.load(\"spacy_prdName_sm\")\n",
    "\n",
    "#Test your text\n",
    "test_text = \"what is the price of chair?\"\n",
    "# test_text = \"what is the price of iphone you bought from Apple store?\"\n",
    "\n",
    "doc = prdnlp(test_text)\n",
    "print(\"\\n=========Test result======\\n\")\n",
    "for ent in doc.ents:\n",
    "    print(ent.text, ent.start_char, ent.end_char, ent.label_)"
   ]
  },
  {
   "cell_type": "code",
   "execution_count": 14,
   "metadata": {},
   "outputs": [
    {
     "name": "stdout",
     "output_type": "stream",
     "text": [
      "what what PRON\n",
      "is be AUX\n",
      "the the DET\n",
      "price price NOUN\n",
      "of of ADP\n",
      "chair chair NOUN\n",
      "? ? PUNCT\n"
     ]
    }
   ],
   "source": [
    "# print other token info\n",
    "for tok in doc:\n",
    "    print(tok.text, tok.lemma_, tok.pos_)"
   ]
  },
  {
   "cell_type": "markdown",
   "metadata": {},
   "source": [
    "## Text to Vector Representations\n",
    "\n",
    "Vectorization is the process of converting text into numerical vectors. These vectors can then be used as features. Broadly they can be categorized into **frequency** based vectors e.g. **one-hot**, **bag-of-words**, **tf-idf** etc, and **prediction** based vectors (neural word embeddings) e.g. **word2vec**, **fastText** etc.\n",
    "\n",
    "### one-hot encodings\n",
    "One hot encoding convert categorical data to a numeric value. For example, if you have the category as \"cat dog mouse\" This can be represented as `[1 0 0] [0 1 0] [0 0 1]` where the first index is for cat and the last for mouse.\n",
    "\n",
    "These encoding vectors are easy to compute, but do not convey any useful semantic information about the text, their size depends upon the vocabulary."
   ]
  },
  {
   "cell_type": "code",
   "execution_count": 15,
   "metadata": {},
   "outputs": [
    {
     "name": "stdout",
     "output_type": "stream",
     "text": [
      "7\n",
      "{'man': 0, 'eat': 1, 'pizza?': 2, 'said': 3, 'i': 4, 'the': 5, 'can': 6}\n"
     ]
    }
   ],
   "source": [
    "import numpy as np\n",
    "# change texts to a one hot encoding\n",
    "sent = \"Can I eat the Pizza? said the man\".lower()\n",
    "words = set(sent.split())\n",
    "print(len(words))\n",
    "\n",
    "word_indexs = {}\n",
    "for i, word in enumerate(words):\n",
    "        word_indexs[word] = i\n",
    "\n",
    "print(word_indexs)\n"
   ]
  },
  {
   "cell_type": "code",
   "execution_count": 16,
   "metadata": {},
   "outputs": [
    {
     "data": {
      "text/plain": [
       "array([[0., 0., 0., 0., 0., 0., 1.],\n",
       "       [0., 0., 0., 0., 1., 0., 0.],\n",
       "       [0., 1., 0., 0., 0., 0., 0.],\n",
       "       [0., 0., 0., 0., 0., 1., 0.],\n",
       "       [0., 0., 1., 0., 0., 0., 0.],\n",
       "       [0., 0., 0., 1., 0., 0., 0.],\n",
       "       [0., 0., 0., 0., 0., 1., 0.],\n",
       "       [1., 0., 0., 0., 0., 0., 0.]])"
      ]
     },
     "execution_count": 16,
     "metadata": {},
     "output_type": "execute_result"
    }
   ],
   "source": [
    "word_vectors = [word_indexs[word] for word in sent.split()]\n",
    "one_hot_encodings = np.eye(len(words))[word_vectors]\n",
    "\n",
    "one_hot_encodings"
   ]
  },
  {
   "cell_type": "code",
   "execution_count": 17,
   "metadata": {},
   "outputs": [
    {
     "name": "stdout",
     "output_type": "stream",
     "text": [
      "similarity= 0.67\n"
     ]
    }
   ],
   "source": [
    "# compute sentence similarity\n",
    "sentences = [\"He loves Pizza\", \n",
    "             \"He hates Pizza\"]\n",
    "\n",
    "## vocabs = He, loves, pizza, hates\n",
    "\n",
    "vec1 = np.array([1, 1, 1, 0])\n",
    "vec2 = np.array([1, 0, 1, 1])\n",
    "\n",
    "print(\"similarity=\", np.round(np.dot(vec1,vec2) / (np.sqrt(np.dot(vec1,vec1)) * np.sqrt(np.dot(vec2,vec2))), 2))\n",
    "\n",
    "# or\n",
    "# from numpy.linalg import norm\n",
    "# print(\"similarity=\", np.round(np.dot(vec1,vec2) / (norm(vec1) * norm(vec2)), 2))\n"
   ]
  },
  {
   "cell_type": "markdown",
   "metadata": {},
   "source": [
    "### Bag of Words Vectors\n",
    "Same as on-hot, but now consider the frequency of terms.\n",
    "- Count or Tfidf based"
   ]
  },
  {
   "cell_type": "code",
   "execution_count": 18,
   "metadata": {},
   "outputs": [
    {
     "data": {
      "text/plain": [
       "array([[0, 0, 0, 1, 0, 1, 1, 0],\n",
       "       [0, 0, 1, 1, 0, 0, 1, 0],\n",
       "       [1, 1, 0, 0, 1, 1, 2, 1]])"
      ]
     },
     "execution_count": 18,
     "metadata": {},
     "output_type": "execute_result"
    }
   ],
   "source": [
    "from sklearn.feature_extraction.text import CountVectorizer, TfidfVectorizer\n",
    "\n",
    "sentences = [\"He loves Pizza\", \n",
    "             \"He hates Pizza\",\n",
    "            \"Alexa likes Pizza. She also loves Pizza.\"]\n",
    "\n",
    "vectorizer = CountVectorizer()\n",
    "# vectorizer = TfidfVectorizer()\n",
    "\n",
    "X = vectorizer.fit_transform(sentences)\n",
    "X.toarray()\n",
    "\n",
    "# this is a document-term matrix, where row represent document(sentence) and column represent term(word)"
   ]
  },
  {
   "cell_type": "code",
   "execution_count": 19,
   "metadata": {},
   "outputs": [
    {
     "data": {
      "text/html": [
       "<div>\n",
       "<style scoped>\n",
       "    .dataframe tbody tr th:only-of-type {\n",
       "        vertical-align: middle;\n",
       "    }\n",
       "\n",
       "    .dataframe tbody tr th {\n",
       "        vertical-align: top;\n",
       "    }\n",
       "\n",
       "    .dataframe thead th {\n",
       "        text-align: right;\n",
       "    }\n",
       "</style>\n",
       "<table border=\"1\" class=\"dataframe\">\n",
       "  <thead>\n",
       "    <tr style=\"text-align: right;\">\n",
       "      <th></th>\n",
       "      <th>alexa</th>\n",
       "      <th>also</th>\n",
       "      <th>hates</th>\n",
       "      <th>he</th>\n",
       "      <th>likes</th>\n",
       "      <th>loves</th>\n",
       "      <th>pizza</th>\n",
       "      <th>she</th>\n",
       "    </tr>\n",
       "  </thead>\n",
       "  <tbody>\n",
       "    <tr>\n",
       "      <th>0</th>\n",
       "      <td>0</td>\n",
       "      <td>0</td>\n",
       "      <td>0</td>\n",
       "      <td>1</td>\n",
       "      <td>0</td>\n",
       "      <td>1</td>\n",
       "      <td>1</td>\n",
       "      <td>0</td>\n",
       "    </tr>\n",
       "    <tr>\n",
       "      <th>1</th>\n",
       "      <td>0</td>\n",
       "      <td>0</td>\n",
       "      <td>1</td>\n",
       "      <td>1</td>\n",
       "      <td>0</td>\n",
       "      <td>0</td>\n",
       "      <td>1</td>\n",
       "      <td>0</td>\n",
       "    </tr>\n",
       "    <tr>\n",
       "      <th>2</th>\n",
       "      <td>1</td>\n",
       "      <td>1</td>\n",
       "      <td>0</td>\n",
       "      <td>0</td>\n",
       "      <td>1</td>\n",
       "      <td>1</td>\n",
       "      <td>2</td>\n",
       "      <td>1</td>\n",
       "    </tr>\n",
       "  </tbody>\n",
       "</table>\n",
       "</div>"
      ],
      "text/plain": [
       "   alexa  also  hates  he  likes  loves  pizza  she\n",
       "0      0     0      0   1      0      1      1    0\n",
       "1      0     0      1   1      0      0      1    0\n",
       "2      1     1      0   0      1      1      2    1"
      ]
     },
     "execution_count": 19,
     "metadata": {},
     "output_type": "execute_result"
    }
   ],
   "source": [
    "import pandas as pd\n",
    "# as dataframe\n",
    "df = pd.DataFrame(columns=vectorizer.get_feature_names_out().tolist(), data=X.toarray())\n",
    "df"
   ]
  },
  {
   "cell_type": "markdown",
   "metadata": {},
   "source": [
    "### Neural Word embeddings\n",
    "\n",
    "Word embeddings are continuous and dense vector representations, and carry semantic meaning of encoded text. Few examples of commonly used word emeddings are <span style=\"color:blue\">word2vec</span>, <span style=\"color:blue\">fastText</span>, and <span style=\"color:blue\">GloVe</span>. \n",
    "\n",
    "You can use existing embeddings or train your own word or doc embeddings via gensim module."
   ]
  },
  {
   "cell_type": "code",
   "execution_count": 20,
   "metadata": {},
   "outputs": [
    {
     "name": "stdout",
     "output_type": "stream",
     "text": [
      "Requirement already satisfied: gensim in /Users/yimam/anaconda3/envs/nlpnweb/lib/python3.8/site-packages (4.3.3)\n",
      "Requirement already satisfied: numpy<2.0,>=1.18.5 in /Users/yimam/anaconda3/envs/nlpnweb/lib/python3.8/site-packages (from gensim) (1.22.4)\n",
      "Requirement already satisfied: scipy<1.14.0,>=1.7.0 in /Users/yimam/anaconda3/envs/nlpnweb/lib/python3.8/site-packages (from gensim) (1.10.1)\n",
      "Requirement already satisfied: smart-open>=1.8.1 in /Users/yimam/anaconda3/envs/nlpnweb/lib/python3.8/site-packages (from gensim) (6.4.0)\n",
      "\u001b[33mWARNING: Error parsing dependencies of ipython-genutils: [Errno 2] No such file or directory: '/Users/yimam/anaconda3/envs/nlpnweb/lib/python3.8/site-packages/ipython_genutils-0.2.0.dist-info/METADATA'\u001b[0m\u001b[33m\n",
      "\u001b[0m"
     ]
    }
   ],
   "source": [
    "!pip install gensim"
   ]
  },
  {
   "cell_type": "code",
   "execution_count": 21,
   "metadata": {},
   "outputs": [
    {
     "name": "stdout",
     "output_type": "stream",
     "text": [
      "['fasttext-wiki-news-subwords-300', 'conceptnet-numberbatch-17-06-300', 'word2vec-ruscorpora-300', 'word2vec-google-news-300', 'glove-wiki-gigaword-50', 'glove-wiki-gigaword-100', 'glove-wiki-gigaword-200', 'glove-wiki-gigaword-300', 'glove-twitter-25', 'glove-twitter-50', 'glove-twitter-100', 'glove-twitter-200', '__testing_word2vec-matrix-synopsis']\n"
     ]
    }
   ],
   "source": [
    "import gensim.downloader\n",
    "print(list(gensim.downloader.info()['models'].keys()))"
   ]
  },
  {
   "cell_type": "code",
   "execution_count": 22,
   "metadata": {},
   "outputs": [
    {
     "name": "stdout",
     "output_type": "stream",
     "text": [
      "[=====---------------------------------------------] 11.7% 23.4/199.5MB downloaded"
     ]
    },
    {
     "name": "stderr",
     "output_type": "stream",
     "text": [
      "IOPub message rate exceeded.\n",
      "The Jupyter server will temporarily stop sending output\n",
      "to the client in order to avoid crashing it.\n",
      "To change this limit, set the config variable\n",
      "`--ServerApp.iopub_msg_rate_limit`.\n",
      "\n",
      "Current values:\n",
      "ServerApp.iopub_msg_rate_limit=1000.0 (msgs/sec)\n",
      "ServerApp.rate_limit_window=3.0 (secs)\n",
      "\n"
     ]
    },
    {
     "name": "stdout",
     "output_type": "stream",
     "text": [
      "[====================------------------------------] 40.3% 80.4/199.5MB downloaded"
     ]
    },
    {
     "name": "stderr",
     "output_type": "stream",
     "text": [
      "IOPub message rate exceeded.\n",
      "The Jupyter server will temporarily stop sending output\n",
      "to the client in order to avoid crashing it.\n",
      "To change this limit, set the config variable\n",
      "`--ServerApp.iopub_msg_rate_limit`.\n",
      "\n",
      "Current values:\n",
      "ServerApp.iopub_msg_rate_limit=1000.0 (msgs/sec)\n",
      "ServerApp.rate_limit_window=3.0 (secs)\n",
      "\n"
     ]
    },
    {
     "name": "stdout",
     "output_type": "stream",
     "text": [
      "[===================================---------------] 70.6% 140.8/199.5MB downloaded"
     ]
    },
    {
     "name": "stderr",
     "output_type": "stream",
     "text": [
      "IOPub message rate exceeded.\n",
      "The Jupyter server will temporarily stop sending output\n",
      "to the client in order to avoid crashing it.\n",
      "To change this limit, set the config variable\n",
      "`--ServerApp.iopub_msg_rate_limit`.\n",
      "\n",
      "Current values:\n",
      "ServerApp.iopub_msg_rate_limit=1000.0 (msgs/sec)\n",
      "ServerApp.rate_limit_window=3.0 (secs)\n",
      "\n"
     ]
    },
    {
     "name": "stdout",
     "output_type": "stream",
     "text": [
      "[==================================================] 100.0% 199.5/199.5MB downloaded\n"
     ]
    }
   ],
   "source": [
    "glove_vecs = gensim.downloader.load('glove-twitter-50')"
   ]
  },
  {
   "cell_type": "code",
   "execution_count": 23,
   "metadata": {},
   "outputs": [
    {
     "data": {
      "text/plain": [
       "[('blue', 0.905890941619873),\n",
       " ('white', 0.900847315788269),\n",
       " ('red', 0.8868987560272217),\n",
       " ('black', 0.8692153692245483),\n",
       " ('yellow', 0.8651176691055298),\n",
       " ('orange', 0.8573962450027466),\n",
       " ('light', 0.8366133570671082),\n",
       " ('purple', 0.8363710045814514),\n",
       " ('brown', 0.8180327415466309),\n",
       " ('classic', 0.8119250535964966)]"
      ]
     },
     "execution_count": 23,
     "metadata": {},
     "output_type": "execute_result"
    }
   ],
   "source": [
    "glove_vecs.most_similar('green', topn=10) "
   ]
  },
  {
   "cell_type": "code",
   "execution_count": 24,
   "metadata": {},
   "outputs": [],
   "source": [
    "import nltk\n",
    "from gensim.models import Word2Vec\n",
    "\n",
    "sents = nltk.corpus.brown.sents()\n",
    "\n",
    "model = Word2Vec(sents, vector_size=100, window=5, min_count=1, sg=0) # sg=1 for skipgram\n",
    "model.save(\"word2vec_br.model\")\n"
   ]
  },
  {
   "cell_type": "code",
   "execution_count": 25,
   "metadata": {},
   "outputs": [
    {
     "data": {
      "text/plain": [
       "[('brown', 0.9852051138877869),\n",
       " ('pink', 0.9842218160629272),\n",
       " ('pale', 0.9836364984512329),\n",
       " ('loaded', 0.9831498861312866),\n",
       " ('blue', 0.9798592925071716),\n",
       " ('yellow', 0.9777296781539917),\n",
       " ('gray', 0.977594792842865),\n",
       " ('ice', 0.9759752750396729),\n",
       " ('dried', 0.975618839263916),\n",
       " ('huge', 0.9754664897918701)]"
      ]
     },
     "execution_count": 25,
     "metadata": {},
     "output_type": "execute_result"
    }
   ],
   "source": [
    "model.wv.most_similar('green', topn=10) "
   ]
  },
  {
   "cell_type": "code",
   "execution_count": 26,
   "metadata": {
    "collapsed": true,
    "jupyter": {
     "outputs_hidden": true
    }
   },
   "outputs": [
    {
     "data": {
      "text/plain": [
       "['the',\n",
       " ',',\n",
       " '.',\n",
       " 'of',\n",
       " 'and',\n",
       " 'to',\n",
       " 'a',\n",
       " 'in',\n",
       " 'that',\n",
       " 'is',\n",
       " 'was',\n",
       " 'for',\n",
       " '``',\n",
       " \"''\",\n",
       " 'The',\n",
       " 'with',\n",
       " 'it',\n",
       " 'as',\n",
       " 'he',\n",
       " 'his',\n",
       " 'on',\n",
       " 'be',\n",
       " ';',\n",
       " 'I',\n",
       " 'by',\n",
       " 'had',\n",
       " 'at',\n",
       " '?',\n",
       " 'not',\n",
       " 'are',\n",
       " 'from',\n",
       " 'or',\n",
       " 'this',\n",
       " 'have',\n",
       " 'an',\n",
       " 'which',\n",
       " '--',\n",
       " 'were',\n",
       " 'but',\n",
       " 'He',\n",
       " 'her',\n",
       " 'one',\n",
       " 'they',\n",
       " 'you',\n",
       " 'all',\n",
       " 'would',\n",
       " 'him',\n",
       " 'their',\n",
       " 'been',\n",
       " ')',\n",
       " '(',\n",
       " 'has',\n",
       " 'will',\n",
       " 'who',\n",
       " 'more',\n",
       " 'out',\n",
       " 'It',\n",
       " 'we',\n",
       " 'she',\n",
       " 'said',\n",
       " 'there',\n",
       " 'up',\n",
       " 'In',\n",
       " ':',\n",
       " 'than',\n",
       " 'them',\n",
       " 'into',\n",
       " 'no',\n",
       " 'its',\n",
       " 'about',\n",
       " 'so',\n",
       " 'when',\n",
       " 'can',\n",
       " 'only',\n",
       " 'other',\n",
       " '!',\n",
       " 'could',\n",
       " 'time',\n",
       " 'if',\n",
       " 'what',\n",
       " 'some',\n",
       " 'But',\n",
       " 'A',\n",
       " 'two',\n",
       " 'any',\n",
       " 'may',\n",
       " 'do',\n",
       " 'first',\n",
       " 'like',\n",
       " 'these',\n",
       " 'over',\n",
       " 'such',\n",
       " 'This',\n",
       " 'me',\n",
       " 'my',\n",
       " 'man',\n",
       " 'our',\n",
       " 'made',\n",
       " 'new',\n",
       " 'most',\n",
       " 'now',\n",
       " 'then',\n",
       " 'must',\n",
       " 'also',\n",
       " 'Af',\n",
       " 'did',\n",
       " 'even',\n",
       " 'back',\n",
       " 'before',\n",
       " 'years',\n",
       " 'through',\n",
       " 'And',\n",
       " 'many',\n",
       " 'She',\n",
       " 'much',\n",
       " 'way',\n",
       " 'down',\n",
       " 'your',\n",
       " 'should',\n",
       " 'There',\n",
       " 'where',\n",
       " 'They',\n",
       " 'Mr.',\n",
       " 'after',\n",
       " 'because',\n",
       " 'people',\n",
       " 'too',\n",
       " 'little',\n",
       " 'those',\n",
       " 'own',\n",
       " 'very',\n",
       " 'make',\n",
       " 'good',\n",
       " 'each',\n",
       " 'well',\n",
       " 'work',\n",
       " 'just',\n",
       " 'men',\n",
       " 'If',\n",
       " 'still',\n",
       " 'see',\n",
       " 'get',\n",
       " 'between',\n",
       " 'long',\n",
       " 'being',\n",
       " 'world',\n",
       " 'same',\n",
       " 'We',\n",
       " 'know',\n",
       " 'life',\n",
       " 'might',\n",
       " 'us',\n",
       " 'never',\n",
       " 'year',\n",
       " 'For',\n",
       " 'under',\n",
       " 'both',\n",
       " 'last',\n",
       " 'off',\n",
       " 'how',\n",
       " 'day',\n",
       " 'came',\n",
       " 'against',\n",
       " 'used',\n",
       " 'great',\n",
       " 'here',\n",
       " 'go',\n",
       " 'himself',\n",
       " 'right',\n",
       " 'come',\n",
       " 'When',\n",
       " 'few',\n",
       " 'take',\n",
       " 'New',\n",
       " 'another',\n",
       " 'American',\n",
       " 'old',\n",
       " 'use',\n",
       " 'while',\n",
       " 'around',\n",
       " 'three',\n",
       " 'As',\n",
       " 'state',\n",
       " 'without',\n",
       " 'found',\n",
       " 'again',\n",
       " 'Mrs.',\n",
       " 'His',\n",
       " 'place',\n",
       " '1',\n",
       " 'home',\n",
       " 'You',\n",
       " 'small',\n",
       " 'thought',\n",
       " 'went',\n",
       " 'say',\n",
       " 'upon',\n",
       " 'What',\n",
       " 'left',\n",
       " 'got',\n",
       " 'number',\n",
       " 'part',\n",
       " 'course',\n",
       " 'United',\n",
       " 'high',\n",
       " 'since',\n",
       " 'during',\n",
       " 'away',\n",
       " 'always',\n",
       " 'fact',\n",
       " '2',\n",
       " 'does',\n",
       " 'States',\n",
       " 'every',\n",
       " 'until',\n",
       " 'water',\n",
       " 'think',\n",
       " 'less',\n",
       " 'enough',\n",
       " 'To',\n",
       " 'took',\n",
       " 'put',\n",
       " 'head',\n",
       " 'something',\n",
       " 'One',\n",
       " 'hand',\n",
       " 'school',\n",
       " 'once',\n",
       " 'told',\n",
       " 'At',\n",
       " 'far',\n",
       " 'set',\n",
       " 'almost',\n",
       " 'better',\n",
       " 'public',\n",
       " 'end',\n",
       " 'house',\n",
       " 'night',\n",
       " 'called',\n",
       " 'find',\n",
       " 'knew',\n",
       " 'system',\n",
       " \"didn't\",\n",
       " 'going',\n",
       " 'eyes',\n",
       " \"don't\",\n",
       " 'however',\n",
       " 'asked',\n",
       " 'group',\n",
       " 'toward',\n",
       " 'give',\n",
       " 'days',\n",
       " 'though',\n",
       " 'point',\n",
       " 'possible',\n",
       " 'program',\n",
       " 'given',\n",
       " 'face',\n",
       " 'present',\n",
       " 'side',\n",
       " 'per',\n",
       " 'looked',\n",
       " 'room',\n",
       " 'important',\n",
       " 'look',\n",
       " 'order',\n",
       " 'business',\n",
       " 'next',\n",
       " 'things',\n",
       " 'John',\n",
       " 'young',\n",
       " 'become',\n",
       " 'No',\n",
       " 'nothing',\n",
       " 'later',\n",
       " 'felt',\n",
       " 'That',\n",
       " 'social',\n",
       " 'case',\n",
       " 'Then',\n",
       " 'rather',\n",
       " 'large',\n",
       " 'need',\n",
       " 'form',\n",
       " 'saw',\n",
       " 'often',\n",
       " 'On',\n",
       " 'These',\n",
       " 'least',\n",
       " 'along',\n",
       " 'children',\n",
       " 'best',\n",
       " 'second',\n",
       " 'several',\n",
       " 'ever',\n",
       " 'seemed',\n",
       " 'early',\n",
       " 'Of',\n",
       " 'thing',\n",
       " 'four',\n",
       " 'want',\n",
       " 'power',\n",
       " 'mind',\n",
       " 'interest',\n",
       " 'within',\n",
       " 'turned',\n",
       " 'light',\n",
       " 'area',\n",
       " \"'\",\n",
       " 'big',\n",
       " 'done',\n",
       " 'among',\n",
       " 'began',\n",
       " 'members',\n",
       " 'country',\n",
       " 'problem',\n",
       " 'door',\n",
       " 'general',\n",
       " 'family',\n",
       " 'sense',\n",
       " 'kind',\n",
       " 'development',\n",
       " 'whole',\n",
       " 'matter',\n",
       " 'different',\n",
       " 'open',\n",
       " 'war',\n",
       " 'itself',\n",
       " 'certain',\n",
       " 'help',\n",
       " 'York',\n",
       " 'God',\n",
       " 'others',\n",
       " 'human',\n",
       " 'let',\n",
       " 'name',\n",
       " 'means',\n",
       " 'example',\n",
       " '3',\n",
       " 'action',\n",
       " 'gave',\n",
       " 'hands',\n",
       " 'feet',\n",
       " 'yet',\n",
       " 'line',\n",
       " 'taken',\n",
       " 'law',\n",
       " 'past',\n",
       " 'With',\n",
       " 'seen',\n",
       " 'All',\n",
       " 'above',\n",
       " 'across',\n",
       " 'either',\n",
       " 'local',\n",
       " 'experience',\n",
       " 'government',\n",
       " 'show',\n",
       " 'quite',\n",
       " 'car',\n",
       " 'themselves',\n",
       " 'words',\n",
       " 'body',\n",
       " 'Now',\n",
       " \"I'm\",\n",
       " 'history',\n",
       " 'really',\n",
       " 'anything',\n",
       " 'times',\n",
       " 'death',\n",
       " 'half',\n",
       " 'period',\n",
       " 'State',\n",
       " 'word',\n",
       " 'together',\n",
       " 'city',\n",
       " 'money',\n",
       " 'held',\n",
       " 'having',\n",
       " 'whether',\n",
       " 'cannot',\n",
       " 'information',\n",
       " 'President',\n",
       " 'already',\n",
       " 'week',\n",
       " 'white',\n",
       " 'shall',\n",
       " 'political',\n",
       " 'brought',\n",
       " 'making',\n",
       " 'seems',\n",
       " 'real',\n",
       " 'whose',\n",
       " 'question',\n",
       " 'keep',\n",
       " 'moment',\n",
       " 'today',\n",
       " 'After',\n",
       " 'ago',\n",
       " 'known',\n",
       " 'became',\n",
       " 'tell',\n",
       " 'service',\n",
       " 'behind',\n",
       " 'field',\n",
       " 'result',\n",
       " 'free',\n",
       " 'five',\n",
       " 'why',\n",
       " 'heard',\n",
       " 'available',\n",
       " 'problems',\n",
       " 'reason',\n",
       " 'study',\n",
       " 'sure',\n",
       " 'position',\n",
       " 'change',\n",
       " 'probably',\n",
       " 'job',\n",
       " 'areas',\n",
       " 'boy',\n",
       " 'individual',\n",
       " 'special',\n",
       " 'Miss',\n",
       " 'So',\n",
       " 'close',\n",
       " 'seem',\n",
       " 'major',\n",
       " 'wife',\n",
       " 'turn',\n",
       " 'wanted',\n",
       " 'full',\n",
       " 'am',\n",
       " 'church',\n",
       " 'cost',\n",
       " 'necessary',\n",
       " 'policy',\n",
       " 'voice',\n",
       " 'clear',\n",
       " 'economic',\n",
       " 'air',\n",
       " 'company',\n",
       " 'front',\n",
       " 'woman',\n",
       " 'true',\n",
       " 'feel',\n",
       " 'able',\n",
       " 'age',\n",
       " 'future',\n",
       " 'community',\n",
       " 'office',\n",
       " 'provide',\n",
       " 'perhaps',\n",
       " 'love',\n",
       " 'effect',\n",
       " 'level',\n",
       " 'stood',\n",
       " 'national',\n",
       " 'How',\n",
       " 'Some',\n",
       " 'girl',\n",
       " 'child',\n",
       " 'total',\n",
       " 'control',\n",
       " 'rate',\n",
       " 'common',\n",
       " 'morning',\n",
       " 'run',\n",
       " '4',\n",
       " 'short',\n",
       " 'Washington',\n",
       " 'following',\n",
       " 'million',\n",
       " 'students',\n",
       " 'By',\n",
       " 'evidence',\n",
       " 'town',\n",
       " 'sound',\n",
       " 'force',\n",
       " 'value',\n",
       " 'believe',\n",
       " 'hard',\n",
       " 'top',\n",
       " 'mean',\n",
       " 'land',\n",
       " 'although',\n",
       " 'An',\n",
       " 'surface',\n",
       " 'leave',\n",
       " 'type',\n",
       " 'play',\n",
       " 'six',\n",
       " 'situation',\n",
       " 'military',\n",
       " 'plan',\n",
       " 'various',\n",
       " 'process',\n",
       " 'party',\n",
       " 'English',\n",
       " 'increase',\n",
       " 'further',\n",
       " 'music',\n",
       " 'started',\n",
       " 'says',\n",
       " 'lines',\n",
       " 'America',\n",
       " 'strong',\n",
       " 'minutes',\n",
       " 'idea',\n",
       " 'longer',\n",
       " 'personal',\n",
       " 'Dr.',\n",
       " 'society',\n",
       " 'tax',\n",
       " 'alone',\n",
       " 'mother',\n",
       " 'House',\n",
       " 'gone',\n",
       " 'outside',\n",
       " 'schools',\n",
       " 'near',\n",
       " 'usually',\n",
       " 'months',\n",
       " 'Not',\n",
       " 'center',\n",
       " 'General',\n",
       " 'needed',\n",
       " 'West',\n",
       " 'nature',\n",
       " 'expected',\n",
       " 'private',\n",
       " 'kept',\n",
       " 'values',\n",
       " 'living',\n",
       " 'Even',\n",
       " 'century',\n",
       " 'ground',\n",
       " 'pressure',\n",
       " 'basis',\n",
       " 'view',\n",
       " 'art',\n",
       " 'women',\n",
       " 'call',\n",
       " 'South',\n",
       " 'wrote',\n",
       " 'required',\n",
       " \"I'll\",\n",
       " 'moved',\n",
       " 'greater',\n",
       " 'modern',\n",
       " 'cut',\n",
       " 'conditions',\n",
       " 'complete',\n",
       " 'return',\n",
       " 'road',\n",
       " 'particular',\n",
       " 'support',\n",
       " 'attention',\n",
       " 'soon',\n",
       " 'book',\n",
       " 'else',\n",
       " 'live',\n",
       " 'education',\n",
       " 'late',\n",
       " 'material',\n",
       " 'hours',\n",
       " 'lost',\n",
       " \"couldn't\",\n",
       " 'Since',\n",
       " 'stage',\n",
       " 'amount',\n",
       " 'costs',\n",
       " 'single',\n",
       " 'followed',\n",
       " '1960',\n",
       " 'third',\n",
       " 'hundred',\n",
       " 'added',\n",
       " 'except',\n",
       " 'space',\n",
       " 'tried',\n",
       " 'including',\n",
       " 'person',\n",
       " 'However',\n",
       " 'dark',\n",
       " 'heart',\n",
       " 'coming',\n",
       " 'board',\n",
       " 'fire',\n",
       " 'reached',\n",
       " 'pay',\n",
       " 'miles',\n",
       " 'developed',\n",
       " 'move',\n",
       " 'feeling',\n",
       " 'act',\n",
       " 'makes',\n",
       " 'read',\n",
       " 'recent',\n",
       " 'simply',\n",
       " 'dead',\n",
       " 'figure',\n",
       " 'shown',\n",
       " 'Thus',\n",
       " 'class',\n",
       " 'hope',\n",
       " 'Department',\n",
       " 'St.',\n",
       " 'equipment',\n",
       " 'From',\n",
       " 'received',\n",
       " '&',\n",
       " 'National',\n",
       " 'taking',\n",
       " 'doing',\n",
       " 'basic',\n",
       " 'college',\n",
       " 'everything',\n",
       " 'Why',\n",
       " 'hold',\n",
       " 'inside',\n",
       " 'looking',\n",
       " 'trying',\n",
       " 'sometimes',\n",
       " 'data',\n",
       " 'cold',\n",
       " 'picture',\n",
       " 'industry',\n",
       " 'U.S.',\n",
       " 'sort',\n",
       " 'rest',\n",
       " 'spirit',\n",
       " 'low',\n",
       " \"It's\",\n",
       " 'father',\n",
       " 'difficult',\n",
       " 'terms',\n",
       " 'care',\n",
       " 'walked',\n",
       " 'War',\n",
       " 'nor',\n",
       " 'beginning',\n",
       " 'subject',\n",
       " 'states',\n",
       " 'religious',\n",
       " 'getting',\n",
       " 'floor',\n",
       " 'My',\n",
       " 'beyond',\n",
       " 'passed',\n",
       " 'especially',\n",
       " 'black',\n",
       " 'bring',\n",
       " 'therefore',\n",
       " 'simple',\n",
       " 'cent',\n",
       " 'range',\n",
       " 'England',\n",
       " 'report',\n",
       " 'written',\n",
       " 'paper',\n",
       " 'property',\n",
       " 'Secretary',\n",
       " '10',\n",
       " 'natural',\n",
       " 'needs',\n",
       " 'hear',\n",
       " 'meeting',\n",
       " 'final',\n",
       " 'talk',\n",
       " \"can't\",\n",
       " 'higher',\n",
       " 'likely',\n",
       " 'growth',\n",
       " 'Her',\n",
       " 'Congress',\n",
       " 'considered',\n",
       " 'friends',\n",
       " 'ten',\n",
       " 'sat',\n",
       " 'entire',\n",
       " 'fine',\n",
       " 'answer',\n",
       " 'story',\n",
       " 'working',\n",
       " 'countries',\n",
       " 'difference',\n",
       " 'forces',\n",
       " 'meet',\n",
       " 'involved',\n",
       " 'table',\n",
       " 'William',\n",
       " 'hair',\n",
       " 'cases',\n",
       " 'building',\n",
       " \"wasn't\",\n",
       " 'Government',\n",
       " 'similar',\n",
       " 'training',\n",
       " 'street',\n",
       " 'happened',\n",
       " 'thus',\n",
       " 'purpose',\n",
       " 'stand',\n",
       " 'hour',\n",
       " 'effort',\n",
       " 'paid',\n",
       " 'Christian',\n",
       " 'North',\n",
       " 'issue',\n",
       " 'Here',\n",
       " 'market',\n",
       " 'points',\n",
       " 'whom',\n",
       " 'sent',\n",
       " 'knowledge',\n",
       " 'earlier',\n",
       " 'particularly',\n",
       " 'ready',\n",
       " \"it's\",\n",
       " '5',\n",
       " 'increased',\n",
       " 'East',\n",
       " 'statement',\n",
       " 'showed',\n",
       " 'addition',\n",
       " 'decided',\n",
       " 'results',\n",
       " 'thinking',\n",
       " 'Kennedy',\n",
       " 'Well',\n",
       " 'son',\n",
       " 'production',\n",
       " 'letter',\n",
       " 'start',\n",
       " 'French',\n",
       " 'weeks',\n",
       " 'moral',\n",
       " 'bad',\n",
       " 'wall',\n",
       " 'girls',\n",
       " 'due',\n",
       " 'programs',\n",
       " 'reading',\n",
       " 'size',\n",
       " 'methods',\n",
       " 'ideas',\n",
       " 'stock',\n",
       " 'method',\n",
       " 'directly',\n",
       " 'understand',\n",
       " 'color',\n",
       " 'population',\n",
       " 'Yet',\n",
       " 'fall',\n",
       " 'appeared',\n",
       " 'normal',\n",
       " 'foreign',\n",
       " 'lay',\n",
       " 'strength',\n",
       " 'Island',\n",
       " 'concerned',\n",
       " 'City',\n",
       " '1961',\n",
       " 'Federal',\n",
       " 'record',\n",
       " 'nearly',\n",
       " 'police',\n",
       " 'trade',\n",
       " 'deal',\n",
       " 'food',\n",
       " 'peace',\n",
       " 'questions',\n",
       " 'comes',\n",
       " 'research',\n",
       " 'member',\n",
       " 'continued',\n",
       " 'merely',\n",
       " 'below',\n",
       " 'summer',\n",
       " 'During',\n",
       " 'ran',\n",
       " 'section',\n",
       " 'using',\n",
       " 'influence',\n",
       " 'direction',\n",
       " 'boys',\n",
       " 'literature',\n",
       " 'husband',\n",
       " 'opened',\n",
       " 'trouble',\n",
       " 'physical',\n",
       " 'finally',\n",
       " 'led',\n",
       " 'suddenly',\n",
       " 'month',\n",
       " 'list',\n",
       " 'temperature',\n",
       " 'step',\n",
       " 'stopped',\n",
       " 'piece',\n",
       " 'met',\n",
       " 'cause',\n",
       " 'George',\n",
       " 'instead',\n",
       " 'chance',\n",
       " 'try',\n",
       " 'anyone',\n",
       " 'effective',\n",
       " 'theory',\n",
       " 'evening',\n",
       " 'wrong',\n",
       " 'actually',\n",
       " 'worked',\n",
       " 'Soviet',\n",
       " 'services',\n",
       " 'myself',\n",
       " 'former',\n",
       " 'provided',\n",
       " 'average',\n",
       " 'forms',\n",
       " 'ways',\n",
       " 'bed',\n",
       " 'placed',\n",
       " 'lead',\n",
       " 'changes',\n",
       " 'defense',\n",
       " 'efforts',\n",
       " 'president',\n",
       " 'degree',\n",
       " 'groups',\n",
       " 'Church',\n",
       " \"wouldn't\",\n",
       " 'systems',\n",
       " 'sales',\n",
       " 'herself',\n",
       " 'friend',\n",
       " \"I've\",\n",
       " 'meaning',\n",
       " 'movement',\n",
       " 'manner',\n",
       " 'aid',\n",
       " 'lot',\n",
       " 'truth',\n",
       " 'University',\n",
       " 'carried',\n",
       " 'respect',\n",
       " 'somewhat',\n",
       " 'fear',\n",
       " 'Although',\n",
       " 'wide',\n",
       " 'series',\n",
       " 'beautiful',\n",
       " 'treatment',\n",
       " 'approach',\n",
       " 'game',\n",
       " 'larger',\n",
       " 'red',\n",
       " 'throughout',\n",
       " 'plant',\n",
       " 'performance',\n",
       " 'direct',\n",
       " 'works',\n",
       " 'numbers',\n",
       " 'couple',\n",
       " 'C',\n",
       " 'Just',\n",
       " 'reaction',\n",
       " 'easy',\n",
       " 'opportunity',\n",
       " 'court',\n",
       " 'J.',\n",
       " 'charge',\n",
       " 'remember',\n",
       " 'described',\n",
       " 'While',\n",
       " 'running',\n",
       " 'reported',\n",
       " 'window',\n",
       " 'decision',\n",
       " 'determined',\n",
       " 'indeed',\n",
       " 'understanding',\n",
       " 'First',\n",
       " 'generally',\n",
       " 'eye',\n",
       " 'freedom',\n",
       " 'labor',\n",
       " 'served',\n",
       " 'Europe',\n",
       " 'British',\n",
       " 'lower',\n",
       " 'trial',\n",
       " 'Aj',\n",
       " 'medical',\n",
       " 'clearly',\n",
       " 'nation',\n",
       " 'Each',\n",
       " 'hot',\n",
       " 'nations',\n",
       " 'persons',\n",
       " 'image',\n",
       " 'account',\n",
       " 'appear',\n",
       " 'feed',\n",
       " 'S.',\n",
       " 'certainly',\n",
       " 'character',\n",
       " 'immediately',\n",
       " 'international',\n",
       " 'earth',\n",
       " 'fiscal',\n",
       " 'responsibility',\n",
       " 'learned',\n",
       " 'ask',\n",
       " 'Act',\n",
       " 'based',\n",
       " 'activity',\n",
       " 'technical',\n",
       " 'forward',\n",
       " 'audience',\n",
       " 'volume',\n",
       " 'planning',\n",
       " 'length',\n",
       " 'obtained',\n",
       " 'returned',\n",
       " \"man's\",\n",
       " 'steps',\n",
       " 'arms',\n",
       " '6',\n",
       " 'industrial',\n",
       " 'ones',\n",
       " 'types',\n",
       " 'blood',\n",
       " 'gives',\n",
       " 'saying',\n",
       " '15',\n",
       " 'straight',\n",
       " 'serious',\n",
       " 'corner',\n",
       " 'test',\n",
       " 'function',\n",
       " 'doubt',\n",
       " 'lived',\n",
       " '30',\n",
       " 'farm',\n",
       " 'federal',\n",
       " 'latter',\n",
       " 'plane',\n",
       " 'quality',\n",
       " 'Brown',\n",
       " 'White',\n",
       " 'square',\n",
       " 'include',\n",
       " 'Such',\n",
       " 'according',\n",
       " 'writing',\n",
       " 'hit',\n",
       " 'Another',\n",
       " 'pattern',\n",
       " 'organization',\n",
       " 'Court',\n",
       " 'activities',\n",
       " 'extent',\n",
       " 'nuclear',\n",
       " 'A.',\n",
       " 'horse',\n",
       " 'choice',\n",
       " 'letters',\n",
       " 'stop',\n",
       " 'born',\n",
       " 'completely',\n",
       " 'Our',\n",
       " 'May',\n",
       " 'moving',\n",
       " 'visit',\n",
       " 'wish',\n",
       " 'lack',\n",
       " 'recently',\n",
       " 'Oh',\n",
       " 'Southern',\n",
       " 'shot',\n",
       " 'cars',\n",
       " 'parts',\n",
       " 'specific',\n",
       " 'progress',\n",
       " 'pool',\n",
       " 'student',\n",
       " 'design',\n",
       " 'indicated',\n",
       " 'slowly',\n",
       " 'main',\n",
       " 'effects',\n",
       " 'firm',\n",
       " 'distance',\n",
       " 'established',\n",
       " 'importance',\n",
       " 'speak',\n",
       " 'stress',\n",
       " 'principle',\n",
       " ...]"
      ]
     },
     "execution_count": 26,
     "metadata": {},
     "output_type": "execute_result"
    }
   ],
   "source": [
    "# vocab\n",
    "model.wv.index_to_key"
   ]
  },
  {
   "cell_type": "code",
   "execution_count": 27,
   "metadata": {},
   "outputs": [
    {
     "data": {
      "text/plain": [
       "array([-0.09678742,  0.1859603 ,  0.43752265,  0.6419876 , -1.2916564 ,\n",
       "        0.1801162 ,  0.90052384,  1.6274683 , -1.1565661 , -0.68196976,\n",
       "        0.09754821, -0.3862499 , -0.7881705 , -0.4665414 ,  0.7248332 ,\n",
       "       -1.1598849 , -0.11276359, -0.3622139 , -1.2011075 , -0.62150675,\n",
       "        0.5201568 ,  0.19725814,  1.3983585 , -0.19063699, -0.15093581,\n",
       "        0.1913065 , -0.11926335, -0.47069305, -1.37721   ,  0.33400905,\n",
       "        1.230687  , -0.0892292 ,  1.0862194 , -0.91366184, -0.151415  ,\n",
       "       -0.14185497, -0.2028787 , -0.4619308 , -0.53097177, -0.8728029 ,\n",
       "        0.11030728, -0.4398651 ,  0.19074753,  0.8669478 ,  0.4912737 ,\n",
       "       -0.42995617,  0.8630657 , -0.4250917 , -0.56299573,  0.30336446,\n",
       "        0.00551108, -0.5954937 , -0.07984465, -0.89981145, -0.6103492 ,\n",
       "       -0.87390465,  0.4845104 , -0.9109287 , -0.10161148,  0.31247723,\n",
       "        0.31406954, -0.01995187,  0.03532227, -0.6800862 , -0.10868275,\n",
       "        0.8440764 ,  1.5481194 ,  1.1773925 , -1.1071384 ,  0.9452861 ,\n",
       "        0.151054  ,  0.0616179 ,  0.3132553 ,  0.39778185,  0.53644127,\n",
       "        1.0424434 ,  0.05176782,  1.0236478 , -0.96325743, -1.1377957 ,\n",
       "       -0.1583966 ,  0.40092477, -0.2894013 ,  0.6547065 , -1.0602403 ,\n",
       "       -0.32292917,  0.14555253,  0.18303324, -1.0211384 ,  0.34365737,\n",
       "        1.3457745 , -0.9159072 , -0.12472296, -0.12269001,  0.8944828 ,\n",
       "        0.89026827,  0.17797847, -0.01224778,  0.2838903 , -0.79315376],\n",
       "      dtype=float32)"
      ]
     },
     "execution_count": 27,
     "metadata": {},
     "output_type": "execute_result"
    }
   ],
   "source": [
    "# Show the vectors\n",
    "model.wv[\"hand\"]"
   ]
  },
  {
   "cell_type": "markdown",
   "metadata": {},
   "source": [
    "##  <span style=\"color:red\"> Discussion Qs</span>\n",
    "\n",
    "1.  Discuss, how you will write a program that will produce one-hot encoding for sentences in a large corpus (e.g. the NLTK books corpus). \n",
    "\n",
    "\n",
    "1. Using the one-hot encoding, How to find the most similar sentence for a given input sentence. How do you handle out-of-vocabulary words in the input sentences, i.e if the input sentence contains words that do not occur while training the one-hot encoding?\n",
    "\n",
    "\n",
    "1. Rather than using one-hot or BoW document embeddings to get similar sentences, how you can do the same task with neural word embeddings e.g. word2vec? Idea is to first construct sentence/document embeddings from word embeddings. How you can achieve this task?"
   ]
  },
  {
   "cell_type": "markdown",
   "metadata": {},
   "source": [
    "# Introduction to <span style=\"color:blue\">PyTorch</span>\n",
    "\n",
    "PyTorch is a python based library that facilitate building deep learning models. It incorporates an advanced scientific computing capability.\n",
    "\n",
    "## PyTorch Tensor\n",
    "* Similar to Numpy Array but with much more capability and <span style=\"color:blue\">fast computations</span>, support of <span style=\"color:blue\">GPU acceleration</span>, <span style=\"color:blue\">distributed computing</span>, and <span style=\"color:blue\">automatic gradient</span> calculation\n",
    "* Provides acceleration for various mathematical operations\n",
    "\n",
    "## A typical workflow in PyTorch\n",
    "![alt pytorch workflow](https://www.learnopencv.com/wp-content/uploads/2019/05/torch-workflow.png)"
   ]
  },
  {
   "cell_type": "markdown",
   "metadata": {},
   "source": [
    "## Data loading in PyTorch\n",
    "* <span style=\"color:blue\">Dataset</span>: Built on top of Tensor data type and used for custom datasets\n",
    "* <span style=\"color:blue\">DataLoader</span>: Is used to load larger dataset"
   ]
  },
  {
   "cell_type": "markdown",
   "metadata": {},
   "source": [
    "## Creating Network\n",
    "* The `torch.nn` module is used to create Neural networks\n",
    "* Provide neural netwrok (nn) layers such as fully connected layers, convolutional layers, activation and loss functions\n",
    "* Once network architecture is created and data are ready to be fed, the `torch.optim` module is used to update weights and biases.\n",
    "* Automatic differentiation is provided by the `torch.autograd` module"
   ]
  },
  {
   "cell_type": "markdown",
   "metadata": {},
   "source": [
    "# <span style=\"color:blue\">Tensors</span>\n",
    "Tensors are similar to Numpy, that are used to create n-dimensional arrays --> Matrices\n",
    "![alt Tensors](https://www.learnopencv.com/wp-content/uploads/2019/05/PyTorch-Tensors.jpg)"
   ]
  },
  {
   "cell_type": "code",
   "execution_count": 28,
   "metadata": {},
   "outputs": [
    {
     "name": "stdout",
     "output_type": "stream",
     "text": [
      "Requirement already satisfied: torch in /Users/yimam/anaconda3/envs/nlpnweb/lib/python3.8/site-packages (2.4.1)\n",
      "Collecting torchtext\n",
      "  Downloading torchtext-0.18.0-cp38-cp38-macosx_11_0_arm64.whl.metadata (7.9 kB)\n",
      "Requirement already satisfied: filelock in /Users/yimam/anaconda3/envs/nlpnweb/lib/python3.8/site-packages (from torch) (3.16.1)\n",
      "Requirement already satisfied: typing-extensions>=4.8.0 in /Users/yimam/anaconda3/envs/nlpnweb/lib/python3.8/site-packages (from torch) (4.12.2)\n",
      "Requirement already satisfied: sympy in /Users/yimam/anaconda3/envs/nlpnweb/lib/python3.8/site-packages (from torch) (1.13.3)\n",
      "Requirement already satisfied: networkx in /Users/yimam/anaconda3/envs/nlpnweb/lib/python3.8/site-packages (from torch) (3.1)\n",
      "Requirement already satisfied: jinja2 in /Users/yimam/anaconda3/envs/nlpnweb/lib/python3.8/site-packages (from torch) (3.1.4)\n",
      "Requirement already satisfied: fsspec in /Users/yimam/anaconda3/envs/nlpnweb/lib/python3.8/site-packages (from torch) (2024.10.0)\n",
      "Requirement already satisfied: tqdm in /Users/yimam/anaconda3/envs/nlpnweb/lib/python3.8/site-packages (from torchtext) (4.66.5)\n",
      "Requirement already satisfied: requests in /Users/yimam/anaconda3/envs/nlpnweb/lib/python3.8/site-packages (from torchtext) (2.32.3)\n",
      "Requirement already satisfied: numpy in /Users/yimam/anaconda3/envs/nlpnweb/lib/python3.8/site-packages (from torchtext) (1.22.4)\n",
      "Requirement already satisfied: MarkupSafe>=2.0 in /Users/yimam/anaconda3/envs/nlpnweb/lib/python3.8/site-packages (from jinja2->torch) (2.1.3)\n",
      "Requirement already satisfied: charset-normalizer<4,>=2 in /Users/yimam/anaconda3/envs/nlpnweb/lib/python3.8/site-packages (from requests->torchtext) (3.3.2)\n",
      "Requirement already satisfied: idna<4,>=2.5 in /Users/yimam/anaconda3/envs/nlpnweb/lib/python3.8/site-packages (from requests->torchtext) (3.7)\n",
      "Requirement already satisfied: urllib3<3,>=1.21.1 in /Users/yimam/anaconda3/envs/nlpnweb/lib/python3.8/site-packages (from requests->torchtext) (2.2.3)\n",
      "Requirement already satisfied: certifi>=2017.4.17 in /Users/yimam/anaconda3/envs/nlpnweb/lib/python3.8/site-packages (from requests->torchtext) (2024.8.30)\n",
      "Requirement already satisfied: mpmath<1.4,>=1.1.0 in /Users/yimam/anaconda3/envs/nlpnweb/lib/python3.8/site-packages (from sympy->torch) (1.3.0)\n",
      "Downloading torchtext-0.18.0-cp38-cp38-macosx_11_0_arm64.whl (2.1 MB)\n",
      "\u001b[2K   \u001b[38;2;114;156;31m━━━━━━━━━━━━━━━━━━━━━━━━━━━━━━━━━━━━━━━━\u001b[0m \u001b[32m2.1/2.1 MB\u001b[0m \u001b[31m13.8 MB/s\u001b[0m eta \u001b[36m0:00:00\u001b[0m\n",
      "\u001b[?25h\u001b[33mWARNING: Error parsing dependencies of ipython-genutils: [Errno 2] No such file or directory: '/Users/yimam/anaconda3/envs/nlpnweb/lib/python3.8/site-packages/ipython_genutils-0.2.0.dist-info/METADATA'\u001b[0m\u001b[33m\n",
      "\u001b[0mInstalling collected packages: torchtext\n",
      "Successfully installed torchtext-0.18.0\n"
     ]
    }
   ],
   "source": [
    "# Install pytorch\n",
    "!pip install torch torchtext"
   ]
  },
  {
   "cell_type": "markdown",
   "metadata": {},
   "source": [
    "## Running PyTorch using <span style=\"color:blue\">Google Colab</span>\n",
    "You can also use [Google Colab](https://colab.research.google.com/) to build deep learning models, they are free, fast and enough for some experiments that you can not run on your local machine. Read about the GPU and TPU supports [here](https://www.bmc.com/blogs/google-cloud-tpu/)"
   ]
  },
  {
   "cell_type": "code",
   "execution_count": 29,
   "metadata": {},
   "outputs": [
    {
     "name": "stdout",
     "output_type": "stream",
     "text": [
      "tensor([1., 1., 1., 1., 1., 1., 1., 1., 1., 1.])\n",
      "tensor([0., 0., 0., 0., 0.])\n",
      "tensor([1, 2, 3, 4])\n",
      "<class 'torch.Tensor'>\n"
     ]
    }
   ],
   "source": [
    "import torch\n",
    "# one dim tensor\n",
    "print(torch.ones(10))\n",
    "print(torch.zeros(5))\n",
    "a = torch.tensor([1,2,3,4])\n",
    "print(a)\n",
    "print(type(a))"
   ]
  },
  {
   "cell_type": "code",
   "execution_count": 30,
   "metadata": {},
   "outputs": [
    {
     "name": "stdout",
     "output_type": "stream",
     "text": [
      "tensor([[0., 0., 0.],\n",
      "        [0., 0., 0.]])\n",
      "tensor([[ 1,  2,  3],\n",
      "        [ 3,  4,  5],\n",
      "        [ 6,  7,  8],\n",
      "        [ 9, 10, 11]])\n",
      "torch.Size([4, 3])\n",
      "tensor([6, 7, 8])\n",
      "tensor([[1, 2, 3],\n",
      "        [3, 4, 5]])\n",
      "tensor([ 3,  5,  8, 11])\n",
      "tensor([ 8,  9, 10])\n"
     ]
    }
   ],
   "source": [
    "#two dim tensors\n",
    "print(torch.zeros(2,3))\n",
    "b = torch.tensor([[1,2,3],\n",
    "                 [3,4,5],\n",
    "                 [6,7,8],\n",
    "                 [9,10,11]])\n",
    "print(b)\n",
    "print(b.shape)\n",
    "# accessing the element in tensor\n",
    "print(b[2]) # get elements at row 2 (i.e 3)\n",
    "print(b[:2]) # get rows 0 and 1\n",
    "print(b[:,2]) # get elements at column 2 (i.e 3 -- the last column)\n",
    "print(b[2]+2) # add 2 two each element"
   ]
  },
  {
   "cell_type": "code",
   "execution_count": 31,
   "metadata": {},
   "outputs": [
    {
     "name": "stdout",
     "output_type": "stream",
     "text": [
      "tensor([1, 2, 3], dtype=torch.int32)\n",
      "tensor([2., 4., 6.], dtype=torch.float64)\n"
     ]
    }
   ],
   "source": [
    "# specify the data type\n",
    "a = torch.tensor([1,2,3], dtype=torch.int32) # 32-bit Integer\n",
    "print(a)\n",
    "b = torch.tensor([2.,4., 6.], dtype=torch.float64) # 64 bit floating point\n",
    "print(b)"
   ]
  },
  {
   "cell_type": "code",
   "execution_count": 32,
   "metadata": {},
   "outputs": [
    {
     "name": "stdout",
     "output_type": "stream",
     "text": [
      "[1 2 3]\n",
      "<class 'numpy.ndarray'>\n"
     ]
    },
    {
     "data": {
      "text/plain": [
       "tensor([1, 2, 3], dtype=torch.int32)"
      ]
     },
     "execution_count": 32,
     "metadata": {},
     "output_type": "execute_result"
    }
   ],
   "source": [
    "# Tensor to Numpy and vice versa\n",
    "aa = a.numpy()\n",
    "print(aa)\n",
    "print(type(aa))\n",
    "aaa = torch.from_numpy(aa)\n",
    "aaa"
   ]
  },
  {
   "cell_type": "code",
   "execution_count": 33,
   "metadata": {},
   "outputs": [
    {
     "name": "stdout",
     "output_type": "stream",
     "text": [
      "Addition: tensor([[ 0,  4,  0],\n",
      "        [ 8,  0, 12]])\n",
      "Addition2: tensor([[ 0,  4,  0],\n",
      "        [ 8,  0, 12]])\n",
      "Subtraction: tensor([[ 2,  0,  6],\n",
      "        [ 0, 10,  0]])\n",
      "Subtraction2: tensor([[ 2,  0,  6],\n",
      "        [ 0, 10,  0]])\n",
      "Mult: tensor([[ 2,  4,  6],\n",
      "        [ 8, 10, 12]])\n",
      "Mult two tensors: tensor([[ -1,   4,  -9],\n",
      "        [ 16, -25,  36]])\n",
      "Matrix mult: tensor([[22, 28],\n",
      "        [49, 64]])\n",
      "Division: tensor([[0, 1, 1],\n",
      "        [2, 2, 3]])\n",
      "Elementwise div: tensor([[-1,  1, -1],\n",
      "        [ 1, -1,  1]])\n"
     ]
    }
   ],
   "source": [
    "#Arthimetic operations\n",
    "# Create tensor\n",
    "tensor1 = torch.tensor([[1,2,3],[4,5,6]])\n",
    "tensor2 = torch.tensor([[-1,2,-3],[4,-5,6]])\n",
    "\n",
    "# Addition\n",
    "print(\"Addition:\",tensor1+tensor2)\n",
    "# We can also use\n",
    "print(\"Addition2:\",torch.add(tensor1,tensor2))\n",
    "\n",
    "# Subtraction\n",
    "print(\"Subtraction:\",tensor1-tensor2)\n",
    "# We can also use\n",
    "print(\"Subtraction2:\",torch.sub(tensor1,tensor2))\n",
    "\n",
    "# Multiplication\n",
    "# Tensor with Scalar\n",
    "print(\"Mult:\",tensor1 * 2)\n",
    "\n",
    "# Tensor with another tensor\n",
    "# Elementwise Multiplication\n",
    "print(\"Mult two tensors:\",tensor1 * tensor2)\n",
    "\n",
    "# Matrix multiplication\n",
    "tensor3 = torch.tensor([[1,2],[3,4],[5,6]])\n",
    "print(\"Matrix mult:\",torch.mm(tensor1,tensor3))\n",
    "\n",
    "# Division\n",
    "# Tensor with scalar\n",
    "print(\"Division:\",tensor1//2)\n",
    "\n",
    "# Tensor with another tensor\n",
    "# Elementwise division\n",
    "print(\"Elementwise div:\",tensor1//tensor2)\n"
   ]
  },
  {
   "cell_type": "code",
   "execution_count": 34,
   "metadata": {},
   "outputs": [
    {
     "name": "stdout",
     "output_type": "stream",
     "text": [
      "False\n"
     ]
    }
   ],
   "source": [
    "#GPU and CPU tensor\n",
    "# Create a tensor for CPU\n",
    "# This will occupy CPU RAM\n",
    "tensor_cpu = torch.tensor([[1.0, 2.0], [3.0, 4.0], [5.0, 6.0]], device='cpu')\n",
    " \n",
    "\n",
    "# Create a tensor for GPU\n",
    "# This will occupy GPU RAM\n",
    "# check if GPU is avaliable\n",
    "print(torch.cuda.is_available())\n",
    "if torch.cuda.is_available():\n",
    "    tensor_gpu = torch.tensor([[1.0, 2.0], [3.0, 4.0], [5.0, 6.0]], device='cuda')"
   ]
  },
  {
   "cell_type": "code",
   "execution_count": 35,
   "metadata": {},
   "outputs": [
    {
     "name": "stdout",
     "output_type": "stream",
     "text": [
      "tensor([[-1.0206,  2.2255,  1.6793,  0.8612],\n",
      "        [-0.6013,  0.9404,  0.3341, -0.0674]])\n",
      "torch.Size([2, 4])\n",
      "tensor([[-1.0206,  2.2255,  1.6793,  0.8612, -0.6013,  0.9404,  0.3341, -0.0674]])\n",
      "torch.Size([1, 8])\n"
     ]
    }
   ],
   "source": [
    "# Reshaping tensors\n",
    "a = torch.randn(2,4)\n",
    "print(a)\n",
    "print(a.shape)\n",
    "b = a.reshape(1,8)\n",
    "print(b)\n",
    "print(b.shape)"
   ]
  },
  {
   "cell_type": "code",
   "execution_count": 36,
   "metadata": {},
   "outputs": [
    {
     "name": "stdout",
     "output_type": "stream",
     "text": [
      "A = tensor([[1., 1.],\n",
      "        [1., 1.]], requires_grad=True)\n",
      "B = tensor([[6., 6.],\n",
      "        [6., 6.]], grad_fn=<AddBackward0>)\n",
      "C = tensor(6., grad_fn=<MeanBackward0>)\n",
      "Gradients--> tensor([[0.2500, 0.2500],\n",
      "        [0.2500, 0.2500]])\n"
     ]
    }
   ],
   "source": [
    "# Autograd module - Autograd is PyTorch’s automatic differentiation package\n",
    "a = torch.ones((2,2), requires_grad=True)\n",
    "print(\"A =\", a)\n",
    "b = a + 5\n",
    "print(\"B =\", b)\n",
    "c = b.mean()\n",
    "print(\"C =\", c)\n",
    "# back propagating\n",
    "c.backward()\n",
    "# computing gradients\n",
    "print(\"Gradients-->\",a.grad)\n",
    "\n"
   ]
  },
  {
   "cell_type": "markdown",
   "metadata": {},
   "source": [
    "b = a + 5\n",
    "\n",
    "c = mean(b) = Σ(a+5) / 4\n",
    "\n",
    "derviation(a) w.r.t c = 1/4"
   ]
  },
  {
   "cell_type": "markdown",
   "metadata": {},
   "source": [
    "## Perceptron: The simplest neural network\n",
    "Like a biological neuron, there is `input` and `output` where the `signals` flow from the inputs to the the outputs.\n",
    "\n",
    "$y = f(wx +b)$\n",
    "\n",
    "`x` is the input, `y` is the output, `wx +b` is a linear function while `f(wx+b)` is a non-linear function called the `activation function`.\n",
    "![alt perceptron](https://miro.medium.com/max/2978/1*-uNOPSyB7IOk9inA-brIBg.png)"
   ]
  },
  {
   "cell_type": "markdown",
   "metadata": {},
   "source": [
    "## Activation functions\n",
    "These are nonlinear functions used to capture complex relationship in data.\n",
    "For a complete list of pytorch activations functions see: https://pytorch.org/docs/stable/nn.functional.html#non-linear-activation-functions\n",
    "### Sigmoid\n",
    "It takes any real value and squashes it into the range <span style=\"color:blue\">between 0 and 1</span>\n",
    "\n",
    "$ f(x)  = \\frac{1}{1+e^{-x}}$\n",
    "\n",
    "It is mostly used at the output. See the following code for an example."
   ]
  },
  {
   "cell_type": "code",
   "execution_count": 37,
   "metadata": {},
   "outputs": [
    {
     "name": "stdout",
     "output_type": "stream",
     "text": [
      "tensor([-6.0000, -5.9000, -5.8000, -5.7000, -5.6000, -5.5000, -5.4000, -5.3000,\n",
      "        -5.2000, -5.1000, -5.0000, -4.9000, -4.8000, -4.7000, -4.6000, -4.5000,\n",
      "        -4.4000, -4.3000, -4.2000, -4.1000, -4.0000, -3.9000, -3.8000, -3.7000,\n",
      "        -3.6000, -3.5000, -3.4000, -3.3000, -3.2000, -3.1000, -3.0000, -2.9000,\n",
      "        -2.8000, -2.7000, -2.6000, -2.5000, -2.4000, -2.3000, -2.2000, -2.1000,\n",
      "        -2.0000, -1.9000, -1.8000, -1.7000, -1.6000, -1.5000, -1.4000, -1.3000,\n",
      "        -1.2000, -1.1000, -1.0000, -0.9000, -0.8000, -0.7000, -0.6000, -0.5000,\n",
      "        -0.4000, -0.3000, -0.2000, -0.1000,  0.0000,  0.1000,  0.2000,  0.3000,\n",
      "         0.4000,  0.5000,  0.6000,  0.7000,  0.8000,  0.9000,  1.0000,  1.1000,\n",
      "         1.2000,  1.3000,  1.4000,  1.5000,  1.6000,  1.7000,  1.8000,  1.9000,\n",
      "         2.0000,  2.1000,  2.2000,  2.3000,  2.4000,  2.5000,  2.6000,  2.7000,\n",
      "         2.8000,  2.9000,  3.0000,  3.1000,  3.2000,  3.3000,  3.4000,  3.5000,\n",
      "         3.6000,  3.7000,  3.8000,  3.9000,  4.0000,  4.1000,  4.2000,  4.3000,\n",
      "         4.4000,  4.5000,  4.6000,  4.7000,  4.8000,  4.9000,  5.0000,  5.1000,\n",
      "         5.2000,  5.3000,  5.4000,  5.5000,  5.6000,  5.7000,  5.8000,  5.9000])\n"
     ]
    }
   ],
   "source": [
    "import torch\n",
    "import matplotlib.pyplot as plt\n",
    "import torch.nn as nn\n",
    "# numbers from -5 to 5 with interval of 0.1 each\n",
    "x = torch.arange(-6., 6., 0.1)\n",
    "print(x)"
   ]
  },
  {
   "cell_type": "code",
   "execution_count": 38,
   "metadata": {},
   "outputs": [
    {
     "name": "stdout",
     "output_type": "stream",
     "text": [
      "tensor([0.0025, 0.0027, 0.0030, 0.0033, 0.0037, 0.0041, 0.0045, 0.0050, 0.0055,\n",
      "        0.0061, 0.0067, 0.0074, 0.0082, 0.0090, 0.0100, 0.0110, 0.0121, 0.0134,\n",
      "        0.0148, 0.0163, 0.0180, 0.0198, 0.0219, 0.0241, 0.0266, 0.0293, 0.0323,\n",
      "        0.0356, 0.0392, 0.0431, 0.0474, 0.0522, 0.0573, 0.0630, 0.0691, 0.0759,\n",
      "        0.0832, 0.0911, 0.0998, 0.1091, 0.1192, 0.1301, 0.1419, 0.1545, 0.1680,\n",
      "        0.1824, 0.1978, 0.2142, 0.2315, 0.2497, 0.2689, 0.2891, 0.3100, 0.3318,\n",
      "        0.3543, 0.3775, 0.4013, 0.4256, 0.4502, 0.4750, 0.5000, 0.5250, 0.5498,\n",
      "        0.5744, 0.5987, 0.6225, 0.6457, 0.6682, 0.6900, 0.7109, 0.7311, 0.7503,\n",
      "        0.7685, 0.7858, 0.8022, 0.8176, 0.8320, 0.8455, 0.8581, 0.8699, 0.8808,\n",
      "        0.8909, 0.9002, 0.9089, 0.9168, 0.9241, 0.9309, 0.9370, 0.9427, 0.9478,\n",
      "        0.9526, 0.9569, 0.9608, 0.9644, 0.9677, 0.9707, 0.9734, 0.9759, 0.9781,\n",
      "        0.9802, 0.9820, 0.9837, 0.9852, 0.9866, 0.9879, 0.9890, 0.9900, 0.9910,\n",
      "        0.9918, 0.9926, 0.9933, 0.9939, 0.9945, 0.9950, 0.9955, 0.9959, 0.9963,\n",
      "        0.9967, 0.9970, 0.9973])\n"
     ]
    },
    {
     "data": {
      "image/png": "[encoded data removed]",
      "text/plain": [
       "<Figure size 640x480 with 1 Axes>"
      ]
     },
     "metadata": {},
     "output_type": "display_data"
    }
   ],
   "source": [
    "y = torch.sigmoid(x)\n",
    "print(y)\n",
    "plt.plot(x.numpy(), y.detach().numpy())\n",
    "plt.show()"
   ]
  },
  {
   "cell_type": "markdown",
   "metadata": {},
   "source": [
    "### Tanh\n",
    "It is a variant of the sigmoid function, that maps a set of real values to  the range <span style=\"color:blue\">between -1 and +1</span>\n",
    "\n",
    "$ f(x)  = \\frac{e^{x}-e^{-x}}{e^{x} + e^{-x}}$"
   ]
  },
  {
   "cell_type": "code",
   "execution_count": 39,
   "metadata": {},
   "outputs": [
    {
     "data": {
      "image/png": "[encoded data removed]",
      "text/plain": [
       "<Figure size 640x480 with 1 Axes>"
      ]
     },
     "metadata": {},
     "output_type": "display_data"
    }
   ],
   "source": [
    "y = torch.tanh(x)\n",
    "# print(y)\n",
    "plt.plot(x.numpy(), y.detach().numpy())\n",
    "plt.show()"
   ]
  },
  {
   "cell_type": "markdown",
   "metadata": {},
   "source": [
    "### ReLU\n",
    "It stands for `rectified linear unit` and it is the most important activation function. It <span style=\"color:blue\">clips the negative values to 0</span>\n",
    "\n",
    "$f(x) = max(0,x)$\n",
    "\n",
    "To avoid the issue of `dying ReLU` where certain outputs become zero and never change value, the `parametric ReLU` is proposed, where a leak coefficient `a` is a learned parameter.\n",
    "\n",
    "$f(x) = max(x,ax)$"
   ]
  },
  {
   "cell_type": "code",
   "execution_count": 40,
   "metadata": {},
   "outputs": [
    {
     "data": {
      "image/png": "[encoded data removed]",
      "text/plain": [
       "<Figure size 640x480 with 1 Axes>"
      ]
     },
     "metadata": {},
     "output_type": "display_data"
    }
   ],
   "source": [
    "y = torch.relu(x)\n",
    "# print(y)\n",
    "plt.plot(x.numpy(),  y.detach().numpy())\n",
    "plt.show()"
   ]
  },
  {
   "cell_type": "markdown",
   "metadata": {},
   "source": [
    "### Softmax\n",
    "It is like the sigmoid function, where the output of each unit are between 0 and 1, while it divides the output by the discrete probability distribution (value <span style=\"color:blue\">between 0 and 1 and sum of each output is 1</span>)\n",
    "\n",
    "$softmax(x_i) =\\frac{e^{x_i}}{\\sum_{j=1}^k e^{x_j}}$"
   ]
  },
  {
   "cell_type": "code",
   "execution_count": 41,
   "metadata": {},
   "outputs": [
    {
     "name": "stdout",
     "output_type": "stream",
     "text": [
      "input: tensor([[ 1.5410, -0.2934, -2.1788]])\n",
      "softmax output: tensor([[0.8446, 0.1349, 0.0205]])\n",
      "distribution: tensor([1.])\n"
     ]
    }
   ],
   "source": [
    "torch.manual_seed(0) # setting a seed to reproduce \n",
    "softmax = nn.Softmax(dim=1)\n",
    "x = torch.randn(1, 3)\n",
    "y = softmax(x)\n",
    "print(\"input:\", x)\n",
    "print(\"softmax output:\",y)\n",
    "print(\"distribution:\", torch.sum(y, dim=1))"
   ]
  },
  {
   "cell_type": "markdown",
   "metadata": {},
   "source": [
    "## Loss Functions\n",
    "A loss function takes the truth value (`y`) and a prediction (`ŷ`) as an input and produce a real-valued score. The lower this score, the better the model is. Some of the most common loss functions in PyTorch are the following.\n",
    "\n",
    "For more details check: https://pytorch.org/docs/stable/nn.functional.html#loss-functions\n",
    "\n",
    "### Mean Squared Error Loss\n",
    "When the out put (`y`) and the prediction (`ŷ`)  are continous values, we can use mean squared error (`MSE`).\n",
    "\n",
    "$L_{MSE}(y, ŷ) = \\frac{1}{n} \\sum_{i=1}^{n} ({y-ŷ})^2$"
   ]
  },
  {
   "cell_type": "code",
   "execution_count": 42,
   "metadata": {},
   "outputs": [
    {
     "name": "stdout",
     "output_type": "stream",
     "text": [
      "Outpusts--> tensor([2., 3.], requires_grad=True)\n",
      "Targets--> tensor([1.5000, 2.5000])\n",
      "loss--> tensor(0.2500, grad_fn=<MseLossBackward0>)\n"
     ]
    }
   ],
   "source": [
    "mse_loss = nn.MSELoss()\n",
    "#predictions\n",
    "outputs = torch.tensor([2,3], dtype=torch.float, requires_grad=True)\n",
    "print(\"Outpusts-->\", outputs)\n",
    "\n",
    "#ground truth\n",
    "targets = torch.tensor([1.5, 2.5],dtype=torch.float)\n",
    "print(\"Targets-->\", targets)\n",
    "loss = mse_loss(outputs, targets)\n",
    "loss.backward()\n",
    "print(\"loss-->\",loss)"
   ]
  },
  {
   "cell_type": "markdown",
   "metadata": {},
   "source": [
    "### Categorical Cross-Entropy Loss\n",
    "\n",
    "Categorical cross-entropy is a loss function that is used in multi-class classification tasks. \n",
    "The categorical cross-entropy loss function calculates the loss of an example by computing the following sum:\n",
    "$L_{CE}(y, ŷ) = - \\sum_{i=1}^{n} {y_i} . log ({ŷ})$"
   ]
  },
  {
   "cell_type": "code",
   "execution_count": 43,
   "metadata": {},
   "outputs": [
    {
     "name": "stdout",
     "output_type": "stream",
     "text": [
      "outputs--> tensor([[1., 4., 5., 3., 2.],\n",
      "        [3., 6., 4., 5., 6.],\n",
      "        [1., 9., 5., 5., 6.]], requires_grad=True)\n",
      "Losses --> tensor(3.1575, grad_fn=<NllLossBackward0>)\n"
     ]
    }
   ],
   "source": [
    "ce_loss = nn.CrossEntropyLoss()\n",
    "outputs = torch.tensor([[1,4,5,3,2],[3,6,4,5,6],[1,9,5,5,6]], dtype=torch.float, requires_grad=True)\n",
    "\n",
    "print (\"outputs-->\",outputs)\n",
    "targets = torch.tensor([1, 0, 3], dtype=torch.int64)\n",
    "loss = ce_loss(outputs, targets)\n",
    "loss.backward()\n",
    "print (\"Losses -->\", loss)"
   ]
  },
  {
   "cell_type": "markdown",
   "metadata": {},
   "source": [
    "### [Binary Cross-Entropy Loss](https://towardsdatascience.com/understanding-binary-cross-entropy-log-loss-a-visual-explanation-a3ac6025181a)"
   ]
  },
  {
   "cell_type": "code",
   "execution_count": 44,
   "metadata": {
    "scrolled": true
   },
   "outputs": [
    {
     "name": "stdout",
     "output_type": "stream",
     "text": [
      "tensor([[0.6384],\n",
      "        [0.2527],\n",
      "        [0.1980],\n",
      "        [0.5995]], grad_fn=<SigmoidBackward0>)\n",
      "tensor(0.8186, grad_fn=<BinaryCrossEntropyBackward0>)\n"
     ]
    }
   ],
   "source": [
    "bce_loss = nn.BCELoss()\n",
    "sigmoid = nn.Sigmoid()\n",
    "probabilities = sigmoid(torch.randn(4, 1, requires_grad=True))\n",
    "print(probabilities)\n",
    "\n",
    "targets = torch.tensor([1, 0, 1, 0], dtype=torch.float32).view(4, 1)\n",
    "loss = bce_loss(probabilities, targets)\n",
    "loss.backward()\n",
    "print(loss)"
   ]
  },
  {
   "cell_type": "markdown",
   "metadata": {},
   "source": [
    "# Optimizers\n",
    "The optimizer tie together the loss function and model parameters by updating the model in response to the output of the loss function. The following are the main steps for optimizers:\n",
    "1. Calculate what a small change in each individual weight would do to the loss function \n",
    "1. Adjust each individual weight based on its gradient (i.e. take a small step in the determined direction)\n",
    "1. Keep doing steps #1 and #2 until the loss function gets as low as possible\n",
    "\n",
    "Learning rates can help to regularize the change weights for a better convergence.\n",
    "![Learning_rate](learningrate.png)\n",
    "\n",
    "Optimizers in PyTorch: \n",
    "Few commonly used ones are:\n",
    "* Adam\n",
    "* Adagrad \n",
    "* RMSprop\n",
    "* SGD ...\n",
    "\n",
    "For complete list check: https://pytorch.org/docs/stable/optim.html#"
   ]
  },
  {
   "cell_type": "markdown",
   "metadata": {},
   "source": [
    "# Epochs and Batches\n",
    "\n",
    "During training, we need to update the parameters in iterations.  <span style=\"color:blue\">An iteration</span> in neural network training is one parameter update step. That is, in each iteration, <span style=\"color:blue\">each parameter is updated once</span>. To do so, we divide the training data into different min-batches. \n",
    "\n",
    "<span style=\"color:blue\">An epoch</span> is a measure of the number of times all training data is used once to update the parameters."
   ]
  },
  {
   "cell_type": "markdown",
   "metadata": {},
   "source": [
    "# Supervised Model in PyTorch\n",
    "Recaps: a supervised approach needs a `model`, a `loss function`, `training data`, and an `optimization algorithm`.\n"
   ]
  },
  {
   "cell_type": "markdown",
   "metadata": {},
   "source": [
    "## Example : Text Categorization - [The 20 Newsgroups data set](http://qwone.com/~jason/20Newsgroups/)\n",
    "The 20 Newsgroups data set is a collection of approximately 20,000 newsgroup documents, partitioned (nearly) evenly across 20 different newsgroups. "
   ]
  },
  {
   "cell_type": "code",
   "execution_count": 45,
   "metadata": {},
   "outputs": [],
   "source": [
    "import torch\n",
    "import pandas as pd\n",
    "import numpy as np\n",
    "import sklearn\n"
   ]
  },
  {
   "cell_type": "markdown",
   "metadata": {},
   "source": [
    "### Dataset"
   ]
  },
  {
   "cell_type": "code",
   "execution_count": 46,
   "metadata": {},
   "outputs": [
    {
     "name": "stdout",
     "output_type": "stream",
     "text": [
      "total texts in train: 2919\n",
      "total texts in test: 1942\n"
     ]
    }
   ],
   "source": [
    "from sklearn.datasets import fetch_20newsgroups\n",
    "# get sub categories\n",
    "categories = [\"comp.graphics\",\"sci.space\",\"rec.sport.baseball\",\"talk.politics.guns\", \"soc.religion.christian\"]\n",
    "newsgroups_train = fetch_20newsgroups(subset='train', categories=categories, shuffle=True)\n",
    "newsgroups_test = fetch_20newsgroups(subset='test', categories=categories,  shuffle=True)\n",
    "\n",
    "train_df = pd.DataFrame({'text': newsgroups_train.data, 'target': newsgroups_train.target})\n",
    "test_df = pd.DataFrame({'text': newsgroups_test.data, 'target': newsgroups_test.target})\n",
    "\n",
    "print('total texts in train:',len(train_df))\n",
    "print('total texts in test:',len(test_df))"
   ]
  },
  {
   "cell_type": "code",
   "execution_count": 47,
   "metadata": {},
   "outputs": [
    {
     "data": {
      "text/html": [
       "<div>\n",
       "<style scoped>\n",
       "    .dataframe tbody tr th:only-of-type {\n",
       "        vertical-align: middle;\n",
       "    }\n",
       "\n",
       "    .dataframe tbody tr th {\n",
       "        vertical-align: top;\n",
       "    }\n",
       "\n",
       "    .dataframe thead th {\n",
       "        text-align: right;\n",
       "    }\n",
       "</style>\n",
       "<table border=\"1\" class=\"dataframe\">\n",
       "  <thead>\n",
       "    <tr style=\"text-align: right;\">\n",
       "      <th></th>\n",
       "      <th>text</th>\n",
       "      <th>target</th>\n",
       "    </tr>\n",
       "  </thead>\n",
       "  <tbody>\n",
       "    <tr>\n",
       "      <th>0</th>\n",
       "      <td>From: khayash@hsc.usc.edu (Ken Hayashida)\\nSub...</td>\n",
       "      <td>2</td>\n",
       "    </tr>\n",
       "    <tr>\n",
       "      <th>1</th>\n",
       "      <td>From: erikb@idt.unit.no (Erik Brenn)\\nSubject:...</td>\n",
       "      <td>0</td>\n",
       "    </tr>\n",
       "    <tr>\n",
       "      <th>2</th>\n",
       "      <td>From: haberj@Informatik.TU-Muenchen.DE (Haber ...</td>\n",
       "      <td>0</td>\n",
       "    </tr>\n",
       "    <tr>\n",
       "      <th>3</th>\n",
       "      <td>From: ccgwt@trentu.ca (Grant Totten)\\nSubject:...</td>\n",
       "      <td>0</td>\n",
       "    </tr>\n",
       "    <tr>\n",
       "      <th>4</th>\n",
       "      <td>From: cdt@sw.stratus.com (C. D. Tavares)\\nSubj...</td>\n",
       "      <td>4</td>\n",
       "    </tr>\n",
       "  </tbody>\n",
       "</table>\n",
       "</div>"
      ],
      "text/plain": [
       "                                                text  target\n",
       "0  From: khayash@hsc.usc.edu (Ken Hayashida)\\nSub...       2\n",
       "1  From: erikb@idt.unit.no (Erik Brenn)\\nSubject:...       0\n",
       "2  From: haberj@Informatik.TU-Muenchen.DE (Haber ...       0\n",
       "3  From: ccgwt@trentu.ca (Grant Totten)\\nSubject:...       0\n",
       "4  From: cdt@sw.stratus.com (C. D. Tavares)\\nSubj...       4"
      ]
     },
     "execution_count": 47,
     "metadata": {},
     "output_type": "execute_result"
    }
   ],
   "source": [
    "train_df.head(5)"
   ]
  },
  {
   "cell_type": "code",
   "execution_count": 48,
   "metadata": {},
   "outputs": [
    {
     "data": {
      "text/html": [
       "<div>\n",
       "<style scoped>\n",
       "    .dataframe tbody tr th:only-of-type {\n",
       "        vertical-align: middle;\n",
       "    }\n",
       "\n",
       "    .dataframe tbody tr th {\n",
       "        vertical-align: top;\n",
       "    }\n",
       "\n",
       "    .dataframe thead th {\n",
       "        text-align: right;\n",
       "    }\n",
       "</style>\n",
       "<table border=\"1\" class=\"dataframe\">\n",
       "  <thead>\n",
       "    <tr style=\"text-align: right;\">\n",
       "      <th></th>\n",
       "      <th>text</th>\n",
       "      <th>target</th>\n",
       "    </tr>\n",
       "  </thead>\n",
       "  <tbody>\n",
       "    <tr>\n",
       "      <th>0</th>\n",
       "      <td>from: khayash@hsc.usc.edu (ken hayashida) subj...</td>\n",
       "      <td>2</td>\n",
       "    </tr>\n",
       "    <tr>\n",
       "      <th>1</th>\n",
       "      <td>from: erikb@idt.unit.no (erik brenn) subject: ...</td>\n",
       "      <td>0</td>\n",
       "    </tr>\n",
       "    <tr>\n",
       "      <th>2</th>\n",
       "      <td>from: haberj@informatik.tu-muenchen.de (haber ...</td>\n",
       "      <td>0</td>\n",
       "    </tr>\n",
       "    <tr>\n",
       "      <th>3</th>\n",
       "      <td>from: ccgwt@trentu.ca (grant totten) subject: ...</td>\n",
       "      <td>0</td>\n",
       "    </tr>\n",
       "    <tr>\n",
       "      <th>4</th>\n",
       "      <td>from: cdt@sw.stratus.com (c. d. tavares) subje...</td>\n",
       "      <td>4</td>\n",
       "    </tr>\n",
       "  </tbody>\n",
       "</table>\n",
       "</div>"
      ],
      "text/plain": [
       "                                                text  target\n",
       "0  from: khayash@hsc.usc.edu (ken hayashida) subj...       2\n",
       "1  from: erikb@idt.unit.no (erik brenn) subject: ...       0\n",
       "2  from: haberj@informatik.tu-muenchen.de (haber ...       0\n",
       "3  from: ccgwt@trentu.ca (grant totten) subject: ...       0\n",
       "4  from: cdt@sw.stratus.com (c. d. tavares) subje...       4"
      ]
     },
     "execution_count": 48,
     "metadata": {},
     "output_type": "execute_result"
    }
   ],
   "source": [
    "def preprocess_text(text):\n",
    "    text = text.lower()\n",
    "    return ' '.join(text.split()) # remove all white spaces\n",
    "\n",
    "\n",
    "train_df[\"text\"] = train_df[\"text\"].apply(preprocess_text)\n",
    "test_df[\"text\"] = test_df[\"text\"].apply(preprocess_text)\n",
    "\n",
    "train_df.head(5)"
   ]
  },
  {
   "cell_type": "markdown",
   "metadata": {},
   "source": [
    "### Vectorize"
   ]
  },
  {
   "cell_type": "code",
   "execution_count": 49,
   "metadata": {},
   "outputs": [
    {
     "name": "stdout",
     "output_type": "stream",
     "text": [
      "VOCAB_SIZE: 87378\n"
     ]
    }
   ],
   "source": [
    "from sklearn.feature_extraction.text import CountVectorizer\n",
    "from collections import Counter\n",
    "\n",
    "vocab_counter = Counter()\n",
    "# words from the training data\n",
    "for text in train_df[\"text\"]:\n",
    "    vocab_counter.update(text.split())\n",
    "\n",
    "VOCAB_SIZE = len(vocab_counter)\n",
    "VOCAB = vocab_counter.keys()\n",
    "print(\"VOCAB_SIZE:\", VOCAB_SIZE)\n",
    "\n",
    "train_docs = train_df[\"text\"].tolist()\n",
    "count_vectorizer = CountVectorizer(vocabulary=VOCAB).fit(train_docs)\n",
    "\n",
    "def vectorize(text):\n",
    "    vec = count_vectorizer.transform([text]).toarray()[0]\n",
    "    return vec    \n"
   ]
  },
  {
   "cell_type": "markdown",
   "metadata": {},
   "source": [
    "### Batching"
   ]
  },
  {
   "cell_type": "code",
   "execution_count": 50,
   "metadata": {},
   "outputs": [],
   "source": [
    "def get_batch(df, i, batch_size):\n",
    "    text_input = []\n",
    "    labels = []\n",
    "    # Split into different batchs, get the next batch \n",
    "    texts = df.text[i*batch_size:i*batch_size+batch_size]\n",
    "    # get the targets \n",
    "    categories = df.target[i*batch_size:i*batch_size+batch_size]\n",
    "    \n",
    "    # prepare input vectors\n",
    "    for text in texts:\n",
    "        vec = vectorize(text)\n",
    "        text_input.append(vec)\n",
    "\n",
    "    # We have 5 categories\n",
    "    for category in categories:\n",
    "        labels.append(category)\n",
    "\n",
    "    # the training and the targets as arrays\n",
    "    return np.array(text_input),np.array(labels)\n",
    "#     return torch.FloatTensor(np.array(text_input)),torch.LongTensor(np.array(labels))"
   ]
  },
  {
   "cell_type": "markdown",
   "metadata": {},
   "source": [
    "### Model Definition"
   ]
  },
  {
   "cell_type": "code",
   "execution_count": 51,
   "metadata": {},
   "outputs": [],
   "source": [
    "import torch.nn as nn\n",
    "# define the network\n",
    "class News_20_Net(nn.Module):\n",
    "     def __init__(self, input_size=300, hidden_size=100, num_classes=5):\n",
    "        super(News_20_Net, self).__init__()\n",
    "        self.layer_1 = nn.Linear(input_size,hidden_size, bias=True)\n",
    "        self.relu = nn.ReLU()\n",
    "        self.layer_2 = nn.Linear(hidden_size, hidden_size, bias=True)\n",
    "        self.output_layer = nn.Linear(hidden_size, num_classes, bias=True)\n",
    "    # accept input and return an output\n",
    "     def forward(self, x):\n",
    "        out = self.layer_1(x)\n",
    "        out = self.relu(out)\n",
    "        out = self.layer_2(out)\n",
    "        out = self.relu(out)\n",
    "        out = self.output_layer(out)\n",
    "        return out"
   ]
  },
  {
   "cell_type": "markdown",
   "metadata": {},
   "source": [
    "### Parameters"
   ]
  },
  {
   "cell_type": "code",
   "execution_count": 52,
   "metadata": {},
   "outputs": [
    {
     "name": "stdout",
     "output_type": "stream",
     "text": [
      "News_20_Net(\n",
      "  (layer_1): Linear(in_features=87378, out_features=100, bias=True)\n",
      "  (relu): ReLU()\n",
      "  (layer_2): Linear(in_features=100, out_features=100, bias=True)\n",
      "  (output_layer): Linear(in_features=100, out_features=5, bias=True)\n",
      ")\n"
     ]
    }
   ],
   "source": [
    "# Parameters\n",
    "learning_rate = 0.01\n",
    "num_epochs = 3\n",
    "batch_size = 128\n",
    "display_step = 1\n",
    "\n",
    "# Network Parameters\n",
    "hidden_size = 100      # 1st layer and 2nd layer number of features\n",
    "input_size = VOCAB_SIZE # Words in vocab\n",
    "num_classes = 5         # Categories: \"graphics\",\"space\",\"baseball\",\"guns\", \"christian\"\n",
    "\n",
    "news_net = News_20_Net(input_size, hidden_size, num_classes).to(\"cpu\")\n",
    "\n",
    "# Loss and Optimizer\n",
    "loss_fn = nn.CrossEntropyLoss()  # This includes the Softmax loss function\n",
    "optimizer = torch.optim.Adam(news_net.parameters(), lr=learning_rate)  \n",
    "\n",
    "print(news_net)\n"
   ]
  },
  {
   "cell_type": "markdown",
   "metadata": {},
   "source": [
    "### Train"
   ]
  },
  {
   "cell_type": "code",
   "execution_count": 53,
   "metadata": {
    "scrolled": true
   },
   "outputs": [
    {
     "name": "stdout",
     "output_type": "stream",
     "text": [
      "Epoch [1/3], Step [4/22], Loss: 1.2342\n",
      "Epoch [1/3], Step [8/22], Loss: 0.4574\n",
      "Epoch [1/3], Step [12/22], Loss: 0.1717\n",
      "Epoch [1/3], Step [16/22], Loss: 0.0515\n",
      "Epoch [1/3], Step [20/22], Loss: 0.4118\n",
      "Epoch [2/3], Step [4/22], Loss: 0.0116\n",
      "Epoch [2/3], Step [8/22], Loss: 0.0143\n",
      "Epoch [2/3], Step [12/22], Loss: 0.0019\n",
      "Epoch [2/3], Step [16/22], Loss: 0.0112\n",
      "Epoch [2/3], Step [20/22], Loss: 0.0010\n",
      "Epoch [3/3], Step [4/22], Loss: 0.0014\n",
      "Epoch [3/3], Step [8/22], Loss: 0.0021\n",
      "Epoch [3/3], Step [12/22], Loss: 0.0011\n",
      "Epoch [3/3], Step [16/22], Loss: 0.0011\n",
      "Epoch [3/3], Step [20/22], Loss: 0.0025\n",
      "saving model to 20news_model.pth\n"
     ]
    }
   ],
   "source": [
    "# Train the Model\n",
    "def train(model, optimizer, loss_fn, train_data, num_epochs=1, batch_size=8, save_path=None):\n",
    "    \n",
    "    for epoch in range(num_epochs):\n",
    "        \n",
    "        # determine the number of min-batches based on the batch size and size of training data\n",
    "        total_batch = int(len(train_data)/batch_size)\n",
    "        \n",
    "        # Loop over all batches\n",
    "        for i in range(total_batch):\n",
    "\n",
    "            batch_x, batch_y = get_batch(train_data,i,batch_size)\n",
    "            articles = torch.FloatTensor(batch_x)\n",
    "            labels = torch.LongTensor(batch_y)\n",
    "\n",
    "            optimizer.zero_grad()  # zero the gradient buffer\n",
    "            # Forward + Backward + Optimize\n",
    "            outputs = model(articles)\n",
    "            loss = loss_fn(outputs, labels)\n",
    "\n",
    "            loss.backward()\n",
    "            optimizer.step()\n",
    "\n",
    "\n",
    "            if (i+1) % 4 == 0:\n",
    "                print ('Epoch [%d/%d], Step [%d/%d], Loss: %.4f'\n",
    "                       %(epoch+1, num_epochs, i+1, \n",
    "                         len(train_data)/batch_size, loss.data))\n",
    "                \n",
    "    \n",
    "    if save_path:\n",
    "        print(f\"saving model to {save_path}\")\n",
    "        torch.save(model.state_dict(), f\"{save_path}\")\n",
    "    return model  \n",
    "\n",
    "\n",
    "\n",
    "trained_model = train(news_net, optimizer, loss_fn, train_df, \n",
    "                      num_epochs=num_epochs, batch_size=batch_size,\n",
    "                     save_path=\"20news_model.pth\") \n"
   ]
  },
  {
   "cell_type": "code",
   "execution_count": 54,
   "metadata": {
    "scrolled": true
   },
   "outputs": [
    {
     "name": "stdout",
     "output_type": "stream",
     "text": [
      "Name---> layer_1.weight \n",
      "Values---> tensor([[ 0.0013,  0.0020, -0.0023,  ..., -0.0033, -0.0031, -0.0019],\n",
      "        [ 0.0007,  0.0019,  0.0017,  ..., -0.0008, -0.0031,  0.0031],\n",
      "        [-0.0015, -0.0030, -0.0017,  ..., -0.0012,  0.0031,  0.0015],\n",
      "        ...,\n",
      "        [ 0.0024,  0.0028,  0.0019,  ..., -0.0014,  0.0006, -0.0018],\n",
      "        [-0.0033,  0.0003, -0.0034,  ..., -0.0011, -0.0028, -0.0004],\n",
      "        [ 0.0006,  0.0025,  0.0022,  ...,  0.0003, -0.0026,  0.0030]])\n",
      "Name---> layer_1.bias \n",
      "Values---> tensor([ 0.0538,  0.0789,  0.0691, -0.0014,  0.0405, -0.0844,  0.0761,  0.0607,\n",
      "        -0.0517, -0.0826, -0.0536, -0.0782,  0.0440, -0.0712,  0.0452, -0.0509,\n",
      "        -0.0648, -0.0632,  0.0216, -0.0576,  0.0206, -0.0606,  0.0762, -0.1256,\n",
      "         0.0071, -0.0598,  0.0971,  0.0339,  0.0300, -0.0084,  0.0318, -0.0011,\n",
      "         0.0284,  0.0617,  0.0645, -0.0061,  0.0169,  0.0913,  0.0125, -0.0546,\n",
      "         0.0027,  0.0916,  0.0376,  0.0028,  0.0780,  0.0669, -0.0808, -0.1041,\n",
      "         0.0824,  0.1085,  0.0402,  0.0632,  0.0617, -0.0232,  0.0304, -0.1379,\n",
      "         0.0497, -0.0615,  0.0734, -0.0267,  0.0320, -0.0090, -0.0007, -0.0285,\n",
      "        -0.0004,  0.0674,  0.0356, -0.0099,  0.0796,  0.0651,  0.0323, -0.0641,\n",
      "         0.0705, -0.0403, -0.1328,  0.0424,  0.0006,  0.0046,  0.0284, -0.0648,\n",
      "         0.0767,  0.1000,  0.1139, -0.0219,  0.0700,  0.0415,  0.0583, -0.0283,\n",
      "         0.0548,  0.0240,  0.0096, -0.0422, -0.0349,  0.0252,  0.0622,  0.0486,\n",
      "         0.0285,  0.0225, -0.0589,  0.0091])\n",
      "Name---> layer_2.weight \n",
      "Values---> tensor([[ 0.0838, -0.0579,  0.1069,  ...,  0.1129,  0.0004, -0.1564],\n",
      "        [-0.1199, -0.1038, -0.1303,  ...,  0.1221, -0.1461, -0.0735],\n",
      "        [ 0.0642,  0.1190, -0.1049,  ..., -0.0928, -0.0920,  0.0609],\n",
      "        ...,\n",
      "        [ 0.0083, -0.0297,  0.0139,  ..., -0.0709, -0.1101, -0.1212],\n",
      "        [ 0.0754, -0.0074,  0.0193,  ..., -0.0005, -0.0521,  0.0372],\n",
      "        [ 0.0499,  0.1276, -0.1361,  ...,  0.0625, -0.0710, -0.0374]])\n",
      "Name---> layer_2.bias \n",
      "Values---> tensor([ 0.0761, -0.0774,  0.0640, -0.0563, -0.1125, -0.0904,  0.1155, -0.1089,\n",
      "         0.0126, -0.1004,  0.1041,  0.0795, -0.0535,  0.1478,  0.0185,  0.0978,\n",
      "         0.1548,  0.1229,  0.0541, -0.1258, -0.0309,  0.0556, -0.0640, -0.0022,\n",
      "         0.0935, -0.0923,  0.0576, -0.0055,  0.0544,  0.0226, -0.0075,  0.1596,\n",
      "        -0.1314, -0.1338, -0.0119, -0.0741,  0.1117,  0.0278,  0.1210,  0.0829,\n",
      "         0.0784, -0.0693,  0.1336,  0.0314,  0.0788,  0.0120,  0.0744, -0.0548,\n",
      "        -0.0402,  0.0537, -0.0295, -0.0278,  0.0411,  0.0736,  0.1013,  0.0644,\n",
      "        -0.1074,  0.0320, -0.1447, -0.0272, -0.1289,  0.0761,  0.1058,  0.0268,\n",
      "        -0.0612,  0.0957,  0.0955,  0.0662,  0.0746,  0.0775,  0.0131,  0.1062,\n",
      "         0.0797,  0.0649,  0.0734,  0.0855,  0.0435, -0.0736, -0.1065, -0.1277,\n",
      "        -0.0184,  0.0592,  0.0661,  0.0524,  0.0991,  0.0247, -0.0828,  0.0022,\n",
      "         0.0477, -0.1616,  0.0265,  0.1797,  0.0356,  0.1218,  0.0747,  0.0760,\n",
      "         0.0500, -0.0877, -0.0325, -0.0468])\n",
      "Name---> output_layer.weight \n",
      "Values---> tensor([[-1.2043e-01,  1.4864e-02, -9.4416e-02, -4.5058e-02, -1.5995e-02,\n",
      "         -1.5690e-02, -8.0397e-02, -1.1268e-01,  1.2734e-01,  1.6316e-02,\n",
      "         -1.5183e-01, -1.5743e-01, -4.4307e-02,  1.2495e-01,  2.2048e-02,\n",
      "         -1.8829e-01, -3.1242e-02, -6.2328e-02,  1.1457e-01,  3.1556e-02,\n",
      "          7.3705e-02, -1.4547e-01, -1.4590e-01, -1.1095e-02, -4.9882e-02,\n",
      "          1.8423e-02, -4.1604e-02,  8.8239e-03,  1.2610e-01,  6.6952e-03,\n",
      "          5.5099e-02,  2.0136e-01, -9.9235e-02, -9.3597e-02, -6.0252e-02,\n",
      "         -1.1367e-01,  1.4252e-01,  2.2843e-02,  9.4158e-02, -1.0786e-01,\n",
      "         -1.2326e-01, -2.2163e-02, -2.1006e-01, -1.5318e-01,  1.1053e-01,\n",
      "          1.2719e-01,  2.2896e-02, -5.7359e-02, -1.9875e-02,  1.1430e-01,\n",
      "         -1.1817e-01,  7.5565e-02, -8.7868e-02,  7.1201e-02, -7.7515e-02,\n",
      "         -4.5763e-02, -2.2109e-02, -2.2281e-02, -7.7082e-02, -1.4474e-01,\n",
      "         -9.4499e-02,  5.6622e-02,  4.9803e-02, -1.8890e-01, -6.2056e-02,\n",
      "         -1.5944e-01, -1.3971e-02, -8.1404e-02,  5.8548e-02,  1.1679e-01,\n",
      "          8.7798e-02,  1.4924e-01,  5.6699e-02,  3.6840e-02, -1.5253e-01,\n",
      "          1.1587e-01, -1.0914e-01,  7.0625e-03,  7.0625e-02, -5.7265e-02,\n",
      "          2.5303e-02, -1.7673e-01, -6.4493e-03, -1.2685e-01,  1.1940e-01,\n",
      "         -1.1062e-01, -2.4357e-02, -7.7371e-03, -2.9553e-02,  6.0197e-02,\n",
      "         -4.7514e-02,  1.0842e-01, -4.4422e-02, -1.6139e-02, -1.3806e-01,\n",
      "         -9.5145e-02, -5.7665e-02, -1.1303e-01, -9.9204e-02, -1.2289e-01],\n",
      "        [-2.0112e-01,  1.0917e-02,  1.2047e-01, -1.9048e-04, -4.0152e-03,\n",
      "         -1.1837e-01, -1.9884e-01,  2.1972e-02,  3.7717e-03,  2.0361e-02,\n",
      "          8.1078e-02,  4.1490e-02, -3.9858e-02,  9.6402e-02,  1.8017e-01,\n",
      "          1.0630e-01, -1.8260e-01, -1.5088e-01,  9.8021e-02,  2.0241e-02,\n",
      "          1.1930e-03, -9.4200e-02,  1.3737e-01, -1.1382e-02, -1.8480e-01,\n",
      "          4.4468e-02, -8.6261e-02, -7.0229e-02, -2.0811e-01,  3.1844e-02,\n",
      "          4.5493e-02,  1.2757e-01, -5.5967e-02, -1.3963e-01, -5.7708e-02,\n",
      "         -8.6278e-02, -1.4209e-01, -1.1267e-01,  7.1398e-02,  2.1543e-01,\n",
      "         -4.3926e-02, -2.8009e-02,  7.0901e-02,  1.6308e-01, -1.8579e-02,\n",
      "          5.1930e-02, -1.0405e-01, -1.7678e-02, -1.7990e-01,  1.0978e-01,\n",
      "         -7.1076e-02, -8.8184e-02,  1.0619e-01, -1.6886e-01, -7.8351e-02,\n",
      "         -1.4926e-01, -3.3781e-02,  1.2676e-01, -5.3661e-02, -1.7539e-01,\n",
      "          2.5016e-02, -1.4225e-01, -8.1043e-02,  1.0086e-01,  1.1259e-01,\n",
      "          9.3913e-02, -2.1370e-01, -2.7956e-02, -8.6301e-02, -1.8745e-01,\n",
      "         -7.4495e-02,  1.0420e-02,  9.1018e-02, -2.1072e-01,  2.0726e-01,\n",
      "         -4.9015e-02,  1.1014e-01, -2.0784e-02,  4.6134e-03, -9.8828e-02,\n",
      "         -6.8947e-02,  5.8631e-03,  1.0528e-01, -5.0837e-02, -1.6479e-01,\n",
      "          1.2364e-01, -9.4872e-02,  3.1910e-02, -1.6558e-02,  3.5528e-02,\n",
      "          1.5099e-02, -1.7451e-01,  1.1389e-01,  7.5670e-02,  2.0138e-01,\n",
      "          1.8487e-01, -5.5286e-02,  1.5823e-02, -7.8719e-02,  8.4050e-02],\n",
      "        [-9.1160e-02,  4.2640e-03, -7.1173e-02,  9.5815e-02, -4.8721e-03,\n",
      "         -1.7172e-02, -9.1719e-02,  6.1271e-02,  4.5352e-03, -1.1004e-03,\n",
      "         -4.2261e-02, -5.6832e-02,  1.2850e-02,  1.2909e-01, -3.6468e-02,\n",
      "         -4.6154e-02,  1.6010e-01,  7.8463e-02, -5.8707e-02,  3.4562e-02,\n",
      "          7.8692e-02,  5.5546e-02, -4.7510e-02,  3.5242e-02, -1.2718e-01,\n",
      "          5.9697e-02,  1.2575e-01,  1.0464e-01, -6.8037e-02,  3.7672e-02,\n",
      "         -1.6953e-02, -1.2484e-01,  8.4085e-02,  5.5594e-02, -5.1941e-02,\n",
      "          1.5934e-01,  8.9913e-02,  4.2054e-02,  3.2175e-02, -8.9840e-02,\n",
      "          2.2484e-01,  4.5639e-02, -6.5636e-02, -1.1866e-01, -3.9935e-02,\n",
      "         -1.1546e-01,  2.5891e-04,  1.1573e-01,  1.1152e-01,  2.7024e-02,\n",
      "          3.9986e-02,  8.3598e-02, -7.0639e-02,  1.1905e-01, -1.2246e-01,\n",
      "         -6.1636e-02, -5.3474e-02, -1.1052e-01,  3.4649e-02,  1.8078e-02,\n",
      "          4.1685e-02, -6.6196e-02, -9.2403e-02, -6.3088e-02, -2.7974e-02,\n",
      "          1.7404e-01, -7.4885e-02,  6.0072e-02,  5.8190e-02,  8.1387e-02,\n",
      "         -8.1479e-03, -1.0208e-01, -8.8081e-02,  3.3642e-02, -1.4738e-01,\n",
      "         -7.0782e-02, -2.2324e-02, -3.6698e-02,  1.7921e-02, -6.3074e-02,\n",
      "          1.4456e-02, -7.9570e-02, -5.9406e-02,  6.9876e-02, -1.0637e-01,\n",
      "         -4.6682e-02, -3.0269e-02, -1.3298e-01, -2.2255e-02, -7.6560e-02,\n",
      "          8.9643e-02,  4.3098e-02, -3.5236e-02, -4.8197e-02, -1.3737e-02,\n",
      "         -3.5101e-02,  2.0410e-01,  1.8833e-03,  2.6538e-02, -2.3602e-01],\n",
      "        [ 2.4672e-03,  4.1004e-02, -4.2838e-03, -7.9230e-03,  3.8155e-02,\n",
      "         -1.0707e-01,  7.2057e-02,  5.7938e-02,  3.3532e-02, -4.4479e-02,\n",
      "          9.8861e-04, -1.0133e-01, -3.2121e-02, -2.1264e-01, -8.3895e-02,\n",
      "          5.8195e-02,  4.6184e-02,  7.0757e-02, -1.3348e-01,  7.3831e-02,\n",
      "          3.5728e-02,  1.0163e-01,  3.4435e-03, -4.7868e-02,  1.1204e-01,\n",
      "         -1.2219e-01,  9.1340e-02, -1.4548e-01,  8.8503e-03,  1.4213e-02,\n",
      "         -2.0665e-02, -4.5823e-02, -4.7487e-02, -2.7655e-02, -2.1292e-02,\n",
      "         -2.0586e-02,  8.2059e-02,  1.3633e-01, -7.1826e-02,  1.3008e-03,\n",
      "         -1.8117e-01, -2.6295e-03,  9.5028e-02, -8.7269e-03, -6.9655e-02,\n",
      "         -1.5163e-01, -3.4452e-03,  7.1489e-02,  8.3982e-02,  1.1264e-01,\n",
      "          3.5255e-02, -2.0258e-02, -2.5227e-03, -8.1400e-02,  1.1251e-01,\n",
      "          1.8286e-02, -1.1051e-01, -6.1871e-02, -5.3897e-02,  1.1320e-01,\n",
      "          7.2768e-02, -1.3124e-03,  1.3907e-01, -1.1965e-01,  5.0370e-02,\n",
      "         -1.3316e-01, -1.2307e-01,  4.3093e-02,  1.1822e-01, -1.0179e-01,\n",
      "          1.5420e-03,  3.4427e-02, -5.0508e-02,  3.7571e-02, -7.7918e-02,\n",
      "          4.4117e-02,  5.4784e-02, -1.3189e-02, -1.5370e-02, -6.8169e-03,\n",
      "         -7.4864e-03,  5.4897e-02, -9.0219e-02,  9.5601e-02, -9.3996e-02,\n",
      "         -9.9079e-02, -5.1325e-02,  5.8878e-02, -2.6813e-02,  7.2778e-02,\n",
      "         -9.7184e-02,  5.2968e-02, -7.2443e-02, -1.4219e-01, -1.0163e-01,\n",
      "         -2.5590e-02, -2.6066e-02, -4.0779e-02, -6.8366e-02, -4.1380e-02],\n",
      "        [ 1.7905e-01, -1.1964e-01, -2.8580e-03,  6.4832e-03,  1.0608e-02,\n",
      "         -3.7100e-03,  1.1157e-02, -3.1842e-02, -8.3247e-02,  1.4831e-01,\n",
      "          6.2867e-02,  1.7540e-01, -1.4805e-01, -4.6137e-02, -7.8183e-03,\n",
      "         -1.6015e-02, -9.2821e-02,  1.6910e-01, -1.1747e-01, -7.2584e-02,\n",
      "          2.3884e-01, -2.2947e-03, -1.2405e-03, -1.0335e-01,  7.8634e-02,\n",
      "         -1.4755e-02, -1.0576e-01, -1.7874e-02,  1.6182e-01,  4.6270e-02,\n",
      "          1.8987e-02, -2.0656e-02,  2.1717e-02,  1.0105e-02,  1.6983e-01,\n",
      "         -3.5247e-02, -6.0968e-02, -1.2980e-01, -1.5805e-01,  9.4356e-02,\n",
      "         -7.3885e-03, -2.4276e-02,  1.2010e-01,  1.0476e-01,  1.7871e-01,\n",
      "         -1.1114e-01, -3.0622e-02, -1.9621e-01, -6.8798e-02, -1.5098e-01,\n",
      "          1.3467e-01, -1.0883e-01, -9.2605e-02, -1.4982e-01, -1.1787e-01,\n",
      "         -5.9613e-02, -7.6198e-03,  6.7571e-03,  2.2759e-02,  3.0641e-02,\n",
      "          1.2534e-02,  1.0782e-01, -6.4054e-02, -1.4515e-01,  8.1896e-02,\n",
      "         -1.3488e-01,  1.8051e-01,  1.3061e-01,  2.6406e-02, -1.0649e-01,\n",
      "         -1.2436e-01, -2.4057e-02, -3.8261e-02,  1.0282e-01, -3.2805e-02,\n",
      "         -1.5079e-01,  1.0550e-01,  1.0206e-03, -1.4315e-01, -8.4949e-02,\n",
      "          1.0930e-02,  1.1149e-01, -3.6421e-02,  7.5474e-02,  2.2805e-01,\n",
      "         -1.6317e-01, -4.9429e-02,  8.4570e-03, -1.6203e-02, -9.5408e-02,\n",
      "         -5.2706e-02, -7.2176e-02, -1.1644e-01, -7.6605e-02, -1.9659e-01,\n",
      "          1.5374e-02,  1.2217e-01,  1.2489e-02,  1.3900e-01, -8.4473e-02]])\n",
      "Name---> output_layer.bias \n",
      "Values---> tensor([ 0.0846,  0.1202, -0.0731, -0.0348, -0.0714])\n"
     ]
    }
   ],
   "source": [
    "#show the different trained parameters\n",
    "for name, param in trained_model.named_parameters():\n",
    "    if param.requires_grad:\n",
    "        print (\"Name--->\",name,\"\\nValues--->\", param.data)"
   ]
  },
  {
   "cell_type": "markdown",
   "metadata": {},
   "source": [
    "### Test"
   ]
  },
  {
   "cell_type": "code",
   "execution_count": 55,
   "metadata": {},
   "outputs": [
    {
     "name": "stdout",
     "output_type": "stream",
     "text": [
      "Accuracy on 1942 test articles: 94 %\n",
      "loss: 0.265527\n"
     ]
    }
   ],
   "source": [
    "def test(model, loss_fn, test_data):\n",
    "    \n",
    "    # get all the test dataset as one batch\n",
    "    batch_x, batch_y = get_batch(test_data, 0, len(test_data))\n",
    "    articles = torch.FloatTensor(batch_x)\n",
    "    labels = torch.LongTensor(batch_y)\n",
    "\n",
    "    model.eval()\n",
    "    \n",
    "    with torch.no_grad():\n",
    "        outputs = model(articles)\n",
    "\n",
    "    predicted = outputs.argmax(1)\n",
    "    loss = loss_fn(outputs, labels)\n",
    "    correct = (predicted == labels).sum()\n",
    "    total = labels.size(0)\n",
    "    print(f'Accuracy on %d test articles: %d %%' % (len(test_data), 100 * correct // total))\n",
    "    print('loss: %f' % (loss))\n",
    "    \n",
    "#     return predicted\n",
    "    \n",
    "    \n",
    "# to load the model, recreate it as a a fresh instance and load the state dict\n",
    "model = News_20_Net(input_size=input_size).to(\"cpu\")\n",
    "model.load_state_dict(torch.load(\"20news_model.pth\", weights_only=True))\n",
    "\n",
    "test(model, loss_fn, test_df)"
   ]
  },
  {
   "cell_type": "markdown",
   "metadata": {},
   "source": [
    "### With Pytorch Dataset and Dataloader\n",
    "\n",
    "PyTorch provides two data primitives: <span style=\"color:blue\">torch.utils.data.DataLoader </span>  and <span style=\"color:blue\">torch.utils.data.Dataset </span>  that allow you to use pre-loaded datasets as well as your own data. Dataset stores the samples and their corresponding labels, and DataLoader wraps an iterable around the Dataset to enable easy access to the samples. With dataloader, batching becomes more easier. \n",
    "\n",
    "Builtin datasets includes text, image and audio datasets. See the details here: https://pytorch.org/vision/stable/datasets.html\n",
    "\n",
    "To use your own dataset with dataloader, we need to define a custom class that extends base <span style=\"color:blue\">torch.utils.data.Dataset</span> and must provide three functions:\n",
    "```__init__, __len__, and __getitem__.```"
   ]
  },
  {
   "cell_type": "code",
   "execution_count": 56,
   "metadata": {},
   "outputs": [
    {
     "name": "stdout",
     "output_type": "stream",
     "text": [
      "torch.Size([128, 87378])\n",
      "torch.Size([128])\n"
     ]
    }
   ],
   "source": [
    "from torch.utils.data import Dataset, DataLoader\n",
    "\n",
    "class Dataset_20NewsGroup(Dataset):\n",
    "    def __init__(self, text, labels):\n",
    "        self.labels = labels\n",
    "        self.text = text\n",
    "\n",
    "        \n",
    "    def __len__(self):\n",
    "        return len(self.labels)\n",
    "\n",
    "    def __getitem__(self, idx):\n",
    "        label = self.labels[idx]\n",
    "        text = self.text[idx]\n",
    "        vec = vectorize(text)\n",
    "        text_vec = torch.FloatTensor(vec)\n",
    "        \n",
    "#         item = {\"Text\": text, \"Label\": label, \"Vec\": vec}\n",
    "        return text_vec, label \n",
    "\n",
    "# Define Dataloader with batch size\n",
    "train_dataloader = DataLoader(Dataset_20NewsGroup(train_df[\"text\"].tolist(), train_df[\"target\"]), batch_size=batch_size)\n",
    "# enumerate batch by batch\n",
    "for i, (articles, labels) in enumerate(train_dataloader):\n",
    "    print(articles.shape)\n",
    "    print(labels.shape)\n",
    "    break"
   ]
  },
  {
   "cell_type": "markdown",
   "metadata": {},
   "source": [
    "----\n",
    "#  <span style=\"color:red\">ML Assignments </span> - 50 points \n",
    "-----\n",
    "\n",
    "\n",
    "You need to choose one option. Project can be done in group (2-4 students). There will be presentation <span style=\"color:red\">4/6 December</span>. You need to prepare a small report (<span style=\"color:red\">1-2 pages</span>) and a presentation (<span style=\"color:red\">max 5 minutes</span>). All of the group members should participate in the presentation."
   ]
  },
  {
   "cell_type": "markdown",
   "metadata": {},
   "source": [
    "----\n",
    "----\n",
    "----\n",
    "# Assignment  <span style=\"color:red\">option One</span> - Train Spacy NER model using the GermaNER dataset \n",
    " In this assignment your tasks are the following\n",
    "1. Train a new spaCy NER model for German (blank) using the GermaNER datasets - see <span style=\"color:red\">Assignment-Option-1 folder</span>\n",
    "1. Load the existing German NER model from spaCy and update the model using the GermaNER dataset. Make sure to normalize entity types accordingly. For example, if the built-in entity type for person is <span style=\"color:blue\">PERSON</span> but it is marked as <span style=\"color:blue\">PER</span> in the GermaNER dataset, convert the GermaNER lable to <span style=\"color:blue\">PERSON</span>. There are also some special \"derivative\" and \"part\" lables such as <span style=\"color:blue\">ORGpart</span> and <span style=\"color:blue\">ORGderiv</span>. How it will affect the the performance? if you normalize these types to a common one, example ORGpart and ORGderiv to <span style=\"color:blue\">ORG</span>?\n",
    "1. Train and update the model using the train and dev dataset and test it with test dataset. Use the perl script provided to evaluate the performance. \n",
    "1. <span style=\"color:red\">The test file will be provided on December 2</span>\n",
    "\n",
    " Note: You can ignore the last column from training and testing! For the evaluation purpose, you can re-use the gold labels.\n",
    " \n",
    "\n",
    "The following snippet shows an example of the TSV format we use in this task. \n",
    "<br>\n",
    "1 Aufgrund O O <br>\n",
    "2 seiner O O<br>\n",
    "3 Initiative O O<br>\n",
    "4 fand O O<br>\n",
    "5 2001/2002 O O<br>\n",
    "6 in O O<br>\n",
    "7 Stuttgart B-LOC O<br>\n",
    "8 , O O<br>\n",
    "9 Braunschweig B-LOC O<br>\n",
    "10 und O O<br>\n",
    "11 Bonn B-LOC O<br>\n",
    "12 eine O O<br>\n",
    "13 große O O<br>\n",
    "14 und O O<br>\n",
    "15 publizistisch O O<br>\n",
    "16 vielbeachtete O O<br>\n",
    "17 Troia-Ausstellung B-LOCpart Ov\n",
    "18 statt O O<br>\n",
    "19 , O O<br>\n",
    "20 „ O O<br>\n",
    "21 Troia B-OTH B-LOC<br>\n",
    "22 - I-OTH O<br>\n",
    "23 Traum I-OTH O<br>\n",
    "24 und I-OTH O<br>\n",
    "25 Wirklichkeit I-OTH O<br>\n",
    "26 “ O O<br>\n",
    "27 . O O<br>\n",
    "\n",
    "\n",
    "Note that, you have to use the provided scripts for the evaluation of your results\n",
    " \n",
    " <span style=\"color:red\">The Perl scripts can be executed for the NER classifier file as:</span><br>\n",
    "`perl conlleval_ner.pl < your_classified_file` <br>"
   ]
  },
  {
   "attachments": {
    "chunk.png": {
     "image/png": "[encoded data removed]"
    },
    "chunksent.png": {
     "image/png": "[encoded data removed]"
    },
    "ner.png": {
     "image/png": "[encoded data removed]"
    },
    "nersent.png": {
     "image/png": "[encoded data removed]"
    }
   },
   "cell_type": "markdown",
   "metadata": {},
   "source": [
    "# Assignment <span style=\"color:red\">option Two</span> - NER using  <span style=\"color:red\">Pycrfsuite</span> \n",
    " In this assignment option, your tasks are the following\n",
    " 1. Train a new NER  or Chunking model  <span style=\"color:red\">using Pycrfsuite</span> library using the data - see  <span style=\"color:red\">Assignment-Option-2 folder</span>\n",
    " 1. The Training and development sets are provided for both the NER and chunking tasks\n",
    " 1. Write the outputs of each dev/test results to a file system and use the provided perl script to evaluate the performances\n",
    " 1.  <span style=\"color:red\">The test file will be provided on December 2</span>\n",
    " \n",
    "The datasets for both tasks are in the CoNLL-Format. This format specifies, that each word is written at the beginning of a new line followed by a set of columns (different features/labels). In most cases, the last column is the one which will be predicted. An empty line specifies the begin of a new sentence. The chunking and the named entity feature within the dataset follow the IOB1/IOB2 format. Within the NER dataset the IOB1 and in the Chunking dataset the IOB2 format\n",
    "is used.<br>\n",
    "In the IOB1 format, annotations begin with an I. Successive words with equal NE annotation or chunking annotation form a phrase. The annotation starts only with a B, if two different phrases of the same type follow each other immediately.<br>\n",
    "The IOB2 format specifies, that each new phrase has to begin with a B. An equal annotation starting with I only follows if it belongs to the same phrase.<br>\n",
    "Examples: IOB tags for NER\n",
    "![nersent.png](attachment:nersent.png)\n",
    "![ner.png](attachment:ner.png)\n",
    "Examples:  IOB tags for Chunking\n",
    "![chunksent.png](attachment:chunksent.png)\n",
    "![chunk.png](attachment:chunk.png)\n",
    "Each data set has two files: A training set for learning a model from selected features and a development set to test and finetune the performance of the model. You should avoid combining these files while\n",
    "you are evaluating the feature selection of your algorithm: Train only on the training set or a subset of\n",
    "the training set, and test only on the development/test set.<br>\n",
    "All data sets are located on the Moodle platform.<br>\n",
    "\n",
    "Note that, you have to use the provided scripts for the evaluation of your results\n",
    " \n",
    " <span style=\"color:red\">The Perl scripts can be executed for the NER classified file via:</span><br>\n",
    "`perl conlleval_ner.pl < your_classified_file` <br>\n",
    "and vice versa for the chunking file via:<br>\n",
    "`perl conlleval_chunking.pl < your_classified_file`\n",
    " "
   ]
  },
  {
   "cell_type": "markdown",
   "metadata": {},
   "source": [
    "# Assignment <span style=\"color:red\">option Three</span> - Complex word Identification (CWI)\n",
    " In this assignment option, your tasks are the following\n",
    " 1. Train a CWI model using the training and development sets\n",
    " 1. You can use any approach (CRF, classification with Sklearn, spaCy model from scratch, Pytorch with one-hot-encoding, PyTorch with pre-trained embeddings)\n",
    " \n",
    "The task is to identify complex or hard words from a given sentence based on the training examples. The data is formatted as follows:\n",
    "\n",
    "Examples<br>\n",
    "\n",
    "----\n",
    "----\n",
    "\n",
    "ID1   Both China and the Philippines <span style=\"color:red\">flexed</span> their muscles on Wednesday.    31    37    flexed    2    7    9<br>\n",
    "\n",
    "----\n",
    "\n",
    "ID1   Both China and the Philippines <span style=\"color:red\">flexed their muscles</span> on Wednesday.    31    51    flexed their muscles    4    2    6<br>\n",
    "\n",
    "----\n",
    "\n",
    "----\n",
    "----\n",
    "Here, we can see that the phrase <span style=\"color:red\">\"flexed\"</span> is marked as a complex phrase by 2 native and 7 non-native English speakers whereas the phrase <span style=\"color:red\">\"flexed their muscles\"</span> is marked by 4 native and 2 non native English speakers.\n",
    " \n",
    "**Detailed explanation of the dataset can be seen here:**\n",
    "https://sites.google.com/view/cwisharedtask2018/datasets"
   ]
  },
  {
   "cell_type": "markdown",
   "metadata": {},
   "source": [
    "# Assignment <span style=\"color:red\">option Four</span> - News Categorization  using PyTorch \n",
    "Download the dataset from https://www.kaggle.com/uciml/news-aggregator-dataset and develop a news classification or categorization model. The dataset contain only titles of a news item and some metadata. The categories of the news items include one of: –<span  style=\"color:red\"> b</span> : business – <span  style=\"color:red\">t</span> : science and technology – <span  style=\"color:red\">e</span> : entertainment and –<span  style=\"color:red\">m</span> : health. \n",
    "\n",
    "1. Prepare training and test dataset: Split the data into training and test set (80% train and 20% test). Make sure they are balanced, otherwise if all <span  style=\"color:red\">b</span> files are on training, your model fails to predict <span  style=\"color:red\">t</span> files in test.\n",
    "2. Binary classification: produce training data for each two categories, such as <span  style=\"color:red\">b </span> and <span  style=\"color:red\"> t</span>, <span  style=\"color:red\">b</span> and <span  style=\"color:red\"> m</span>, <span  style=\"color:red\">e</span> and <span  style=\"color:red\">t</span> and so on. Evaluate the performance and report which categories are easier for the models.\n",
    "3. Adapt the Text Categorization PyTorch code (see above) and evaluate the performance of the system for these task\n",
    "4. Use a pre-trained embeddings and compare your result. When you use pre-trained embeddings, you have to average the word embeddings of each tokens in ach document to get the unique representation of the document. DOC_EMBEDDING = (TOKEN1_EMBEDDING + ... + TOKENn_EMBEDDING). You can also use some of the <span  style=\"color:red\">spacy/FLAIR </span>document embedding methods\n",
    "6. Report the recall, precision, and F1 scores for both binary and multi-class classification.\n",
    " "
   ]
  },
  {
   "cell_type": "markdown",
   "metadata": {},
   "source": [
    "# <span class=\"girk\">Documentation</span>\n",
    "Write a short documentation about your component. Write about the different models, algorithms, features you have developed and document the evaluation for the classification based on the development set with different features and their combination. Please also write about features you used, even if they did not improve the result.\n",
    "# <span class=\"girk\">Presentation</span>\n",
    "Please prepare some slides to present your results within <span style=\"color:red\">5 minutes</span>. Report about your evaluation, your chosen features and the best performance of your classification component."
   ]
  },
  {
   "cell_type": "markdown",
   "metadata": {},
   "source": [
    "## <span style=\"color:red\">Project Choice</span> \n",
    "\n",
    "You have time until <span style=\"color:red\">Monday, November 18, 10:00 AM</span>  to form a group. On that <span style=\"color:red\">Monday, 10:00 AM</span>, we will enable to choose project options (Options 1-4). <span style=\"color:red\">ONLY ONE</span> student from the group should choose the project option.\n",
    "\n",
    "![project_choose.png](project_choose.png)\n"
   ]
  },
  {
   "cell_type": "markdown",
   "metadata": {},
   "source": [
    "## <span style=\"color:red\">BONUS</span> - Running Flask to have classifier API\n",
    "You can load and run the classifier models using Flask and expose the Predict method as a REST-API so that you can use the classifiers from a web-page, mobile devices,...\n",
    "\n",
    "See the example app.py. This code loads the spacy English model and serve NER services. <br> \n",
    "Start the server as:  <span cstyle=\"color:red\">`python app.py`</span> <br>\n",
    "Once the server is started, you can test the application from the browser: https://localhost:5001/\n",
    "\n",
    "Note you can change the port in the app.py file\n",
    "\n",
    "Replace the spaCy model with your own classifier and improve the UI (see <span class=\"girk\">templates.html</span> file)"
   ]
  },
  {
   "cell_type": "markdown",
   "metadata": {},
   "source": [
    "# Resources \n",
    "* [Pytorch Tutorial](https://speech.ee.ntu.edu.tw/~hylee/ml/ml2022-course-data/Pytorch%20Tutorial%201.pdf)\n",
    "* [Custom NER using spaCy](https://medium.com/@manivannan_data/how-to-train-ner-with-custom-training-data-using-spacy-188e0e508c6)\n",
    "* [Custom NER using spaCy](https://github.com/Jcharis/Natural-Language-Processing-Tutorials/blob/master/Training%20the%20Named%20Entity%20Recognizer%20in%20SpaCy.ipynb)\n",
    "* [Overview of PyTorch](https://www.learnopencv.com/pytorch-for-beginners-basics/)\n",
    "* [Perceptron in PyTorch](https://medium.com/@tomgrek/building-your-first-neural-net-from-scratch-with-pytorch-56b0e9c84d54)\n",
    "* [Data Loading and processing in PyTorch](https://pytorch.org/tutorials/beginner/data_loading_tutorial.html)\n",
    "* [PyTorch resources](https://github.com/ritchieng/the-incredible-pytorch)\n",
    "* [PyTorch Tutorial](https://github.com/yunjey/pytorch-tutorial)\n",
    "* [A Beginner-Friendly Guide to PyTorch and How it Works from Scratch](https://medium.com/analytics-vidhya/a-beginner-friendly-guide-to-pytorch-and-how-it-works-from-scratch-25c7c2dceb30)\n",
    "* [RNN  Tutorial](https://blog.floydhub.com/a-beginners-guide-on-recurrent-neural-networks-with-pytorch/)\n",
    "* [PyTorch Tutorial](https://pythonprogramming.net/introduction-deep-learning-neural-network-pytorch/)\n",
    "* [NER API Flask](https://github.com/susanli2016/Named-Entity-Extractor)"
   ]
  },
  {
   "cell_type": "code",
   "execution_count": null,
   "metadata": {},
   "outputs": [],
   "source": []
  }
 ],
 "metadata": {
  "kernelspec": {
   "display_name": "Python 3 (ipykernel)",
   "language": "python",
   "name": "python3"
  },
  "language_info": {
   "codemirror_mode": {
    "name": "ipython",
    "version": 3
   },
   "file_extension": ".py",
   "mimetype": "text/x-python",
   "name": "python",
   "nbconvert_exporter": "python",
   "pygments_lexer": "ipython3",
   "version": "3.8.20"
  }
 },
 "nbformat": 4,
 "nbformat_minor": 4
}
