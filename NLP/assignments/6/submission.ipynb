{
 "cells": [
  {
   "cell_type": "markdown",
   "metadata": {},
   "source": [
    "# Assignment 5"
   ]
  },
  {
   "cell_type": "markdown",
   "metadata": {},
   "source": [
    "## Task 4.1:\n",
    "Finetune a RoBERTa base model for sentiment analysis task on the following dataset: https://huggingface.co/datasets/google-research-datasets/poem_sentiment\n",
    "\n",
    "The **Poem Sentiment** is a sentiment dataset of poem verses from Project Gutenberg. The language of the dataset is English and the key details are as follows:\n",
    "\n",
    "The data fileds are as follows\n",
    "   * id: index of the example\n",
    "   * verse_text: The text of the poem verse\n",
    "   * label: The sentiment label. Here\n",
    "     - 0 = negative\n",
    "     - 1 = positive\n",
    "     - 2 = no impact\n",
    "     - 3 = mixed (both negative and positive)\n",
    "\n",
    "Report the model performance on test set."
   ]
  },
  {
   "cell_type": "code",
   "execution_count": null,
   "metadata": {
    "vscode": {
     "languageId": "plaintext"
    }
   },
   "outputs": [],
   "source": []
  },
  {
   "cell_type": "markdown",
   "metadata": {},
   "source": [
    "## Task 4.2:\n",
    "Original test set contains only three classes, excluding the mixed class. To address this, merge all datasets, shuffle them, and perform a new balanced split of classes. Train a new model and provide a performance report."
   ]
  },
  {
   "cell_type": "code",
   "execution_count": null,
   "metadata": {
    "vscode": {
     "languageId": "plaintext"
    }
   },
   "outputs": [],
   "source": []
  }
 ],
 "metadata": {
  "language_info": {
   "name": "python"
  }
 },
 "nbformat": 4,
 "nbformat_minor": 2
}
