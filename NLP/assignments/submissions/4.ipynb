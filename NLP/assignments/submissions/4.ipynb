{
  "cells": [
    {
      "cell_type": "markdown",
      "metadata": {
        "id": "G3sfISyYpeqe"
      },
      "source": [
        "# Assignment 4"
      ]
    },
    {
      "cell_type": "markdown",
      "metadata": {
        "id": "Rjz1lSm_peqj"
      },
      "source": [
        "## Task 4.1:\n",
        "Finetune a RoBERTa base model for sentiment analysis task on the following dataset: https://huggingface.co/datasets/google-research-datasets/poem_sentiment\n",
        "\n",
        "The **Poem Sentiment** is a sentiment dataset of poem verses from Project Gutenberg. The language of the dataset is English and the key details are as follows:\n",
        "\n",
        "The data fileds are as follows\n",
        "   * id: index of the example\n",
        "   * verse_text: The text of the poem verse\n",
        "   * label: The sentiment label. Here\n",
        "     - 0 = negative\n",
        "     - 1 = positive\n",
        "     - 2 = no impact\n",
        "     - 3 = mixed (both negative and positive)\n",
        "\n",
        "Report the model performance on test set."
      ]
    },
    {
      "cell_type": "code",
      "execution_count": 11,
      "metadata": {
        "id": "J0yKhOA0peqk"
      },
      "outputs": [],
      "source": [
        "%pip install -q torch transformers datasets scikit-learn ipywidgets"
      ]
    },
    {
      "cell_type": "code",
      "execution_count": 12,
      "metadata": {
        "colab": {
          "base_uri": "https://localhost:8080/",
          "height": 255
        },
        "id": "Ux8jjg7Ppeql",
        "outputId": "1e736638-f0dd-4e5e-f3b0-33e64d813b68"
      },
      "outputs": [
        {
          "name": "stderr",
          "output_type": "stream",
          "text": [
            "Some weights of RobertaForSequenceClassification were not initialized from the model checkpoint at roberta-base and are newly initialized: ['classifier.dense.bias', 'classifier.dense.weight', 'classifier.out_proj.bias', 'classifier.out_proj.weight']\n",
            "You should probably TRAIN this model on a down-stream task to be able to use it for predictions and inference.\n"
          ]
        },
        {
          "data": {
            "text/html": [
              "\n",
              "    <div>\n",
              "      \n",
              "      <progress value='168' max='168' style='width:300px; height:20px; vertical-align: middle;'></progress>\n",
              "      [168/168 03:37, Epoch 3/3]\n",
              "    </div>\n",
              "    <table border=\"1\" class=\"dataframe\">\n",
              "  <thead>\n",
              " <tr style=\"text-align: left;\">\n",
              "      <th>Epoch</th>\n",
              "      <th>Training Loss</th>\n",
              "      <th>Validation Loss</th>\n",
              "      <th>Accuracy</th>\n",
              "      <th>F1</th>\n",
              "      <th>Precision</th>\n",
              "      <th>Recall</th>\n",
              "    </tr>\n",
              "  </thead>\n",
              "  <tbody>\n",
              "    <tr>\n",
              "      <td>1</td>\n",
              "      <td>1.005100</td>\n",
              "      <td>0.790635</td>\n",
              "      <td>0.663462</td>\n",
              "      <td>0.529235</td>\n",
              "      <td>0.440181</td>\n",
              "      <td>0.663462</td>\n",
              "    </tr>\n",
              "    <tr>\n",
              "      <td>2</td>\n",
              "      <td>0.666900</td>\n",
              "      <td>0.570061</td>\n",
              "      <td>0.826923</td>\n",
              "      <td>0.817347</td>\n",
              "      <td>0.828307</td>\n",
              "      <td>0.826923</td>\n",
              "    </tr>\n",
              "    <tr>\n",
              "      <td>3</td>\n",
              "      <td>0.560900</td>\n",
              "      <td>0.512768</td>\n",
              "      <td>0.836538</td>\n",
              "      <td>0.839306</td>\n",
              "      <td>0.847091</td>\n",
              "      <td>0.836538</td>\n",
              "    </tr>\n",
              "  </tbody>\n",
              "</table><p>"
            ],
            "text/plain": [
              "<IPython.core.display.HTML object>"
            ]
          },
          "metadata": {},
          "output_type": "display_data"
        },
        {
          "data": {
            "text/html": [
              "\n",
              "    <div>\n",
              "      \n",
              "      <progress value='7' max='7' style='width:300px; height:20px; vertical-align: middle;'></progress>\n",
              "      [7/7 00:00]\n",
              "    </div>\n",
              "    "
            ],
            "text/plain": [
              "<IPython.core.display.HTML object>"
            ]
          },
          "metadata": {},
          "output_type": "display_data"
        },
        {
          "name": "stdout",
          "output_type": "stream",
          "text": [
            "{'eval_loss': 0.5127676129341125, 'eval_accuracy': 0.8365384615384616, 'eval_f1': 0.8393060162285118, 'eval_precision': 0.8470907297830375, 'eval_recall': 0.8365384615384616, 'eval_runtime': 0.7236, 'eval_samples_per_second': 143.728, 'eval_steps_per_second': 9.674, 'epoch': 3.0}\n"
          ]
        }
      ],
      "source": [
        "from transformers import RobertaTokenizer, RobertaForSequenceClassification, Trainer, TrainingArguments\n",
        "from datasets import load_dataset\n",
        "from sklearn.metrics import accuracy_score, f1_score, precision_score, recall_score\n",
        "import torch  # required for the Trainer class\n",
        "\n",
        "# Load the dataset\n",
        "dataset = load_dataset(\"google-research-datasets/poem_sentiment\")\n",
        "\n",
        "# Load the tokenizer and model\n",
        "tokenizer = RobertaTokenizer.from_pretrained(\"roberta-base\")\n",
        "model = RobertaForSequenceClassification.from_pretrained(\"roberta-base\", num_labels=4)\n",
        "\n",
        "# Tokenize the dataset\n",
        "def preprocess_data(examples):\n",
        "    return tokenizer(examples['verse_text'], truncation=True, padding='max_length', max_length=128)\n",
        "\n",
        "tokenized_dataset = dataset.map(preprocess_data, batched=True)\n",
        "tokenized_dataset = tokenized_dataset.rename_column(\"label\", \"labels\")\n",
        "tokenized_dataset.set_format(type='torch', columns=['input_ids', 'attention_mask', 'labels'])\n",
        "\n",
        "# Split the dataset\n",
        "train_dataset = tokenized_dataset['train']\n",
        "test_dataset = tokenized_dataset['test']\n",
        "\n",
        "# Define evaluation metrics with `zero_division`\n",
        "def compute_metrics(pred):\n",
        "    labels = pred.label_ids\n",
        "    preds = pred.predictions.argmax(-1)\n",
        "    accuracy = accuracy_score(labels, preds)\n",
        "    f1 = f1_score(labels, preds, average='weighted', zero_division=0)\n",
        "    precision = precision_score(labels, preds, average='weighted', zero_division=0)\n",
        "    recall = recall_score(labels, preds, average='weighted', zero_division=0)\n",
        "    return {\"accuracy\": accuracy, \"f1\": f1, \"precision\": precision, \"recall\": recall}\n",
        "\n",
        "# Define the training arguments\n",
        "training_args = TrainingArguments(\n",
        "    output_dir=\"./results\",\n",
        "    eval_strategy=\"epoch\",\n",
        "    save_strategy=\"epoch\",\n",
        "    learning_rate=2e-5,\n",
        "    per_device_train_batch_size=16,\n",
        "    per_device_eval_batch_size=16,\n",
        "    num_train_epochs=3,\n",
        "    weight_decay=0.01,\n",
        "    logging_dir=\"./logs\",\n",
        "    logging_steps=10,\n",
        "    load_best_model_at_end=True,\n",
        "    metric_for_best_model=\"accuracy\",\n",
        "    report_to=\"none\"\n",
        ")\n",
        "\n",
        "# Create Trainer instance\n",
        "trainer = Trainer(\n",
        "    model=model,\n",
        "    args=training_args,\n",
        "    train_dataset=train_dataset,\n",
        "    eval_dataset=test_dataset,\n",
        "    processing_class=tokenizer,\n",
        "    compute_metrics=compute_metrics\n",
        ")\n",
        "\n",
        "# Train the model\n",
        "trainer.train()\n",
        "\n",
        "# Evaluate the model on the test set\n",
        "results = trainer.evaluate(test_dataset)\n",
        "print(results)"
      ]
    },
    {
      "cell_type": "markdown",
      "metadata": {
        "id": "ooD_2Vpopeqm"
      },
      "source": [
        "## Task 4.2:\n",
        "Original test set contains only three classes, excluding the mixed class. To address this, merge all datasets, shuffle them, and perform a new balanced split of classes. Train a new model and provide a performance report."
      ]
    },
    {
      "cell_type": "code",
      "execution_count": 13,
      "metadata": {
        "colab": {
          "base_uri": "https://localhost:8080/",
          "height": 255
        },
        "id": "wWB314WIpeqm",
        "outputId": "b2c39f86-f67b-414e-d9ee-efe11c068165"
      },
      "outputs": [
        {
          "name": "stdout",
          "output_type": "stream",
          "text": [
            "Label distribution before resampling: Counter({2: 693, 0: 193, 1: 166, 3: 49})\n"
          ]
        },
        {
          "data": {
            "text/html": [
              "\n",
              "    <div>\n",
              "      \n",
              "      <progress value='75' max='75' style='width:300px; height:20px; vertical-align: middle;'></progress>\n",
              "      [75/75 01:15, Epoch 3/3]\n",
              "    </div>\n",
              "    <table border=\"1\" class=\"dataframe\">\n",
              "  <thead>\n",
              " <tr style=\"text-align: left;\">\n",
              "      <th>Epoch</th>\n",
              "      <th>Training Loss</th>\n",
              "      <th>Validation Loss</th>\n",
              "      <th>Accuracy</th>\n",
              "      <th>F1</th>\n",
              "      <th>Precision</th>\n",
              "      <th>Recall</th>\n",
              "    </tr>\n",
              "  </thead>\n",
              "  <tbody>\n",
              "    <tr>\n",
              "      <td>1</td>\n",
              "      <td>0.427200</td>\n",
              "      <td>0.352124</td>\n",
              "      <td>0.880000</td>\n",
              "      <td>0.880749</td>\n",
              "      <td>0.892519</td>\n",
              "      <td>0.880000</td>\n",
              "    </tr>\n",
              "    <tr>\n",
              "      <td>2</td>\n",
              "      <td>0.237600</td>\n",
              "      <td>0.533352</td>\n",
              "      <td>0.830000</td>\n",
              "      <td>0.825591</td>\n",
              "      <td>0.830055</td>\n",
              "      <td>0.830000</td>\n",
              "    </tr>\n",
              "    <tr>\n",
              "      <td>3</td>\n",
              "      <td>0.131500</td>\n",
              "      <td>0.444869</td>\n",
              "      <td>0.880000</td>\n",
              "      <td>0.879708</td>\n",
              "      <td>0.885000</td>\n",
              "      <td>0.880000</td>\n",
              "    </tr>\n",
              "  </tbody>\n",
              "</table><p>"
            ],
            "text/plain": [
              "<IPython.core.display.HTML object>"
            ]
          },
          "metadata": {},
          "output_type": "display_data"
        },
        {
          "data": {
            "text/html": [
              "\n",
              "    <div>\n",
              "      \n",
              "      <progress value='7' max='7' style='width:300px; height:20px; vertical-align: middle;'></progress>\n",
              "      [7/7 00:00]\n",
              "    </div>\n",
              "    "
            ],
            "text/plain": [
              "<IPython.core.display.HTML object>"
            ]
          },
          "metadata": {},
          "output_type": "display_data"
        },
        {
          "name": "stdout",
          "output_type": "stream",
          "text": [
            "Performance on balanced test set:\n",
            "{'eval_loss': 0.3521239161491394, 'eval_accuracy': 0.88, 'eval_f1': 0.880748717948718, 'eval_precision': 0.8925186314363143, 'eval_recall': 0.88, 'eval_runtime': 0.7328, 'eval_samples_per_second': 136.467, 'eval_steps_per_second': 9.553, 'epoch': 3.0}\n"
          ]
        }
      ],
      "source": [
        "from datasets import concatenate_datasets, DatasetDict\n",
        "from collections import Counter\n",
        "import numpy as np\n",
        "\n",
        "# Combine the datasets using concatenate_datasets\n",
        "full_dataset = concatenate_datasets([\n",
        "    tokenized_dataset['train'].shuffle(seed=42),\n",
        "    tokenized_dataset['validation'],\n",
        "    tokenized_dataset['test']\n",
        "])\n",
        "\n",
        "# Count the distribution of labels\n",
        "label_counts = Counter(full_dataset['labels'])\n",
        "print(f\"Label distribution before resampling: {label_counts}\")\n",
        "\n",
        "# Remove the mixed class (label 3) and retain classes 0, 1, 2\n",
        "filtered_dataset = full_dataset.filter(lambda x: x['labels'] != 3)\n",
        "\n",
        "# Balance the classes by finding the smallest class and resampling\n",
        "smallest_class_count = min(Counter(filtered_dataset['labels']).values())\n",
        "balanced_samples = []\n",
        "\n",
        "for label in [0, 1, 2]:\n",
        "    class_samples = [example for example in filtered_dataset if example['labels'] == label]\n",
        "    balanced_samples.extend(\n",
        "        np.random.choice(class_samples, size=smallest_class_count, replace=False).tolist()\n",
        "    )\n",
        "\n",
        "# Shuffle the dataset\n",
        "np.random.shuffle(balanced_samples)\n",
        "\n",
        "# Split the balanced dataset into train and test sets\n",
        "split_index = int(0.8 * len(balanced_samples))\n",
        "balanced_dataset = DatasetDict({\n",
        "    'train': balanced_samples[:split_index],\n",
        "    'test': balanced_samples[split_index:]\n",
        "})\n",
        "\n",
        "# Train and evaluate a new model on the balanced dataset\n",
        "training_args_balanced = TrainingArguments(\n",
        "    output_dir=\"./results_balanced\",\n",
        "    eval_strategy=\"epoch\",\n",
        "    save_strategy=\"epoch\",\n",
        "    learning_rate=2e-5,\n",
        "    per_device_train_batch_size=16,\n",
        "    per_device_eval_batch_size=16,\n",
        "    num_train_epochs=3,\n",
        "    weight_decay=0.01,\n",
        "    logging_dir=\"./logs_balanced\",\n",
        "    logging_steps=10,\n",
        "    load_best_model_at_end=True,\n",
        "    metric_for_best_model=\"accuracy\",\n",
        "    report_to=\"none\"\n",
        ")\n",
        "\n",
        "trainer_balanced = Trainer(\n",
        "    model=model,\n",
        "    args=training_args_balanced,\n",
        "    train_dataset=balanced_dataset['train'],\n",
        "    eval_dataset=balanced_dataset['test'],\n",
        "    processing_class=tokenizer,\n",
        "    compute_metrics=compute_metrics,\n",
        ")\n",
        "\n",
        "# Train the model on the balanced dataset\n",
        "trainer_balanced.train()\n",
        "\n",
        "# Evaluate the model on the balanced test set\n",
        "results_balanced = trainer_balanced.evaluate(balanced_dataset['test'])\n",
        "print(\"Performance on balanced test set:\")\n",
        "print(results_balanced)"
      ]
    }
  ],
  "metadata": {
    "accelerator": "GPU",
    "colab": {
      "gpuType": "T4",
      "provenance": []
    },
    "kernelspec": {
      "display_name": "Python 3",
      "name": "python3"
    },
    "language_info": {
      "codemirror_mode": {
        "name": "ipython",
        "version": 3
      },
      "file_extension": ".py",
      "mimetype": "text/x-python",
      "name": "python",
      "nbconvert_exporter": "python",
      "pygments_lexer": "ipython3",
      "version": "3.12.7"
    }
  },
  "nbformat": 4,
  "nbformat_minor": 0
}
